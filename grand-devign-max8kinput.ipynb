{
 "cells": [
  {
   "cell_type": "code",
   "execution_count": 1,
   "metadata": {},
   "outputs": [],
   "source": [
    "import torch\n",
    "import torch.nn as nn\n",
    "import torch.nn.functional as F\n",
    "import numpy as np\n",
    "\n",
    "\n",
    "import math\n",
    "import torch\n",
    "import torch.nn as nn\n",
    "from torch.nn.parameter import Parameter\n",
    "import scipy.sparse as sp\n",
    "\n",
    "\n",
    "import subprocess\n",
    "import json\n",
    "import tempfile\n",
    "from transformers import RobertaTokenizer\n",
    "\n",
    "from collections import defaultdict\n",
    "\n",
    "from sklearn.metrics import (\n",
    "    precision_recall_fscore_support,\n",
    "    roc_auc_score\n",
    ")\n",
    "from tqdm import tqdm\n",
    "\n",
    "# device = torch.device(\"cuda:1\" if torch.cuda.is_available() else \"cpu\")\n",
    "device = torch.device(\"cpu\")"
   ]
  },
  {
   "cell_type": "code",
   "execution_count": 2,
   "metadata": {},
   "outputs": [],
   "source": [
    "def drop_node(feats, drop_rate,training=True,seed=42):\n",
    "    \"\"\"\n",
    "    Args:\n",
    "        feats (Tensor): 节点特征 [batch_size, num_nodes, feature_dim] 或 [num_nodes, feature_dim]\n",
    "        drop_rate (float): 丢弃概率。\n",
    "\n",
    "    Returns:\n",
    "        Tensor: 丢弃后的节点特征，与输入形状一致。\n",
    "    \"\"\"\n",
    "    torch.manual_seed(seed)\n",
    "    torch.cuda.manual_seed(seed)\n",
    "    if not training or drop_rate <= 0.0:\n",
    "        return feats\n",
    "    if feats.dim() == 2:  # [num_nodes, feature_dim]\n",
    "        num_nodes, feature_dim = feats.shape\n",
    "        drop_rates = torch.full((num_nodes,), drop_rate, device=feats.device, dtype=feats.dtype)  # [num_nodes]\n",
    "        if training:\n",
    "            masks = torch.bernoulli(1. - drop_rates).unsqueeze(1).expand(-1, feature_dim)  # [num_nodes, feature_dim]\n",
    "            feats = masks * feats\n",
    "        else :\n",
    "            feats = feats * (1. - drop_rate)\n",
    "    elif feats.dim() == 3:  # [batch_size, num_nodes, feature_dim]\n",
    "        batch_size, num_nodes, feature_dim = feats.shape\n",
    "        drop_rates = torch.full((batch_size, num_nodes), drop_rate, device=feats.device, dtype=feats.dtype)  # [batch_size, num_nodes]\n",
    "        if training:\n",
    "            masks = torch.bernoulli(1. - drop_rates).unsqueeze(2).expand(-1, -1, feature_dim)  # [batch_size, num_nodes, feature_dim]\n",
    "            feats = masks * feats\n",
    "        else :\n",
    "            feats = feats * (1. - drop_rate)\n",
    "    else:\n",
    "        raise ValueError(f\"Unsupported feats dimension: {feats.dim()}\")\n",
    "\n",
    "    return feats\n",
    "\n",
    "\n",
    "class MLP(nn.Module):\n",
    "    def __init__(self, in_dim, hid_dim, out_dim, input_dropout, hidden_dropout, batchnorm):\n",
    "        super(MLP, self).__init__()\n",
    "        self.layer1 = nn.Linear(in_dim, hid_dim)\n",
    "        self.layer2 = nn.Linear(hid_dim, out_dim)\n",
    "        self.input_dropout = nn.Dropout(input_dropout)\n",
    "        self.hidden_dropout = nn.Dropout(hidden_dropout)\n",
    "        self.bn1 = nn.BatchNorm1d(in_dim) if batchnorm else None\n",
    "        self.bn2 = nn.BatchNorm1d(hid_dim) if batchnorm else None\n",
    "\n",
    "    def reset_parameters(self):\n",
    "        self.layer1.reset_parameters()\n",
    "        self.layer2.reset_parameters()\n",
    "\n",
    "    def forward(self, x):\n",
    "        if self.bn1:\n",
    "            x = self.bn1(x)\n",
    "        x = self.input_dropout(x)\n",
    "        x = F.relu(self.layer1(x))\n",
    "        if self.bn2:\n",
    "            x = self.bn2(x)\n",
    "        x = self.hidden_dropout(x)\n",
    "        x = self.layer2(x)\n",
    "        return x\n",
    "\n",
    "\n",
    "\n",
    "\n",
    "\n",
    "\n",
    "class GGGNN(nn.Module):\n",
    "    def __init__(self, feature_dim_size, hidden_size, num_GNN_layers, dropout, act=nn.functional.relu):\n",
    "        super(GGGNN, self).__init__()\n",
    "        self.num_GNN_layers = num_GNN_layers\n",
    "        self.emb_encode = nn.Linear(feature_dim_size, hidden_size)\n",
    "        self.dropout_encode = nn.Dropout(dropout)\n",
    "        self.z0 = nn.Linear(hidden_size, hidden_size)\n",
    "        self.z1 = nn.Linear(hidden_size, hidden_size)\n",
    "        self.r0 = nn.Linear(hidden_size, hidden_size)\n",
    "        self.r1 = nn.Linear(hidden_size, hidden_size)\n",
    "        self.h0 = nn.Linear(hidden_size, hidden_size)\n",
    "        self.h1 = nn.Linear(hidden_size, hidden_size)\n",
    "        self.soft_att = nn.Linear(hidden_size, 1)\n",
    "        self.ln = nn.Linear(hidden_size, hidden_size)\n",
    "        self.act = act\n",
    "\n",
    "    def gatedGNN(self, x, adj):\n",
    "        a = torch.matmul(adj, x)\n",
    "        # update gate\n",
    "        z0 = self.z0(a)\n",
    "        z1 = self.z1(x)\n",
    "        z = torch.sigmoid(z0 + z1)\n",
    "        # reset gate\n",
    "        r = torch.sigmoid(self.r0(a) + self.r1(x))\n",
    "        # update embeddings\n",
    "        h = self.act(self.h0(a) + self.h1(r * x))\n",
    "\n",
    "        return h * z + x * (1 - z)\n",
    "\n",
    "    def forward(self, inputs, adj, mask):        # mask [B, N]\n",
    "        x = self.dropout_encode(inputs)\n",
    "        x = self.emb_encode(x)          # [B, N, H]\n",
    "        mask_3d = mask.unsqueeze(-1)             # [B, N, 1]\n",
    "\n",
    "        x = x * mask_3d                          # 广播到 [B, N, H]\n",
    "        for _ in range(self.num_GNN_layers):\n",
    "            x = self.gatedGNN(x, adj) * mask_3d  # 避免重复 unsqueeze\n",
    "        return x"
   ]
  },
  {
   "cell_type": "code",
   "execution_count": 3,
   "metadata": {},
   "outputs": [],
   "source": [
    "class GRAND_GatedFusion(nn.Module):\n",
    "    def __init__(self,\n",
    "                 in_dim,\n",
    "                 hid_dim,\n",
    "                 S=5,\n",
    "                 K=3,\n",
    "                 num_GNN_layers=2,\n",
    "                 node_dropout=0.05,\n",
    "                 input_droprate=0.1,\n",
    "                 hidden_droprate=0.1,\n",
    "                 batchnorm=False,\n",
    "                 att_op='sum',\n",
    "                 num_heads=8,\n",
    "                 temp=0.5,\n",
    "                 lam=1.0,\n",
    "                 gnn_dropout=0.1,\n",
    "                 args=None):\n",
    "        super(GRAND_GatedFusion, self).__init__()\n",
    "        self.S = S\n",
    "        self.K = K\n",
    "        self.args = args\n",
    "        self.node_dropout_rate = node_dropout\n",
    "        self.att_op = att_op\n",
    "        self.temp = temp\n",
    "        self.lam = lam\n",
    "        \n",
    "        # GRAND components\n",
    "        self.grand_mlp = MLP(in_dim, hid_dim, hid_dim, input_droprate, hidden_droprate, batchnorm)\n",
    "        \n",
    "        # Gated GNN components\n",
    "        self.gggnn = GGGNN(in_dim, hid_dim, num_GNN_layers, gnn_dropout)\n",
    "        \n",
    "        # Fusion gate parameters\n",
    "        self.fusion_gate = nn.Linear(2 * hid_dim, hid_dim)\n",
    "        self.reset_gate = nn.Linear(2 * hid_dim, hid_dim)\n",
    "        self.update_gate = nn.Linear(2 * hid_dim, hid_dim)\n",
    "        self.output_gate = nn.Linear(2 * hid_dim, hid_dim)\n",
    "        \n",
    "        # Output layer parameters\n",
    "        if self.att_op == 'atten':\n",
    "            self.att_fc = nn.Linear(hid_dim, 1)\n",
    "            self.out_dim = hid_dim\n",
    "        elif self.att_op == 'mul_head':\n",
    "            self.att_fc = nn.Linear(hid_dim, num_heads)\n",
    "            self.out_dim = hid_dim * num_heads\n",
    "        elif self.att_op == 'concat':\n",
    "            self.out_dim = 2 * hid_dim\n",
    "        else:\n",
    "            self.out_dim = hid_dim\n",
    "\n",
    "\n",
    "\n",
    "    \n",
    "    def normalize_adj(self, adj):\n",
    "        # if adj.dim() == 3:\n",
    "        #     adj_norm = []\n",
    "        #     eye = torch.eye(adj.size(-1), device=adj.device)\n",
    "        #     adj = adj + eye\n",
    "        #     for i in range(adj.size(0)):\n",
    "        #         deg = adj[i].sum(dim=1).clamp(min=1)\n",
    "        #         deg_inv_sqrt = deg.pow(-0.5)\n",
    "        #         D_inv_sqrt = torch.diag(deg_inv_sqrt)\n",
    "        #         adj_norm.append(D_inv_sqrt @ adj[i] @ D_inv_sqrt)\n",
    "        #     return torch.stack(adj_norm)\n",
    "        if adj.dim() == 3:            # batched dense\n",
    "            eye = torch.eye(adj.size(-1), device=adj.device)\n",
    "            adj = adj + eye           # 加自环\n",
    "            deg = adj.sum(-1)         # [B,N]\n",
    "            deg_inv_sqrt = (deg + 1e-9).pow(-0.5)   # 避免除零\n",
    "            # 利用广播而不是显式 diag，加速\n",
    "            return deg_inv_sqrt.unsqueeze(-1) * adj * deg_inv_sqrt.unsqueeze(-2)\n",
    "\n",
    "        # elif adj.dim() == 2:\n",
    "        #     deg = adj.sum(dim=1).clamp(min=1)\n",
    "        #     deg_inv_sqrt = deg.pow(-0.5)\n",
    "        #     D_inv_sqrt = torch.diag(deg_inv_sqrt)\n",
    "        #     return D_inv_sqrt @ adj @ D_inv_sqrt\n",
    "        elif adj.dim() == 2:\n",
    "            N = adj.size(0)\n",
    "            eye = torch.eye(N, device=adj.device, dtype=adj.dtype)\n",
    "            adj = adj + eye\n",
    "            deg = adj.sum(dim=1)                      \n",
    "            deg_inv_sqrt = (deg + 1e-9).pow(-0.5)    \n",
    "            return deg_inv_sqrt.unsqueeze(1) * adj * deg_inv_sqrt.unsqueeze(0)\n",
    "\n",
    "\n",
    "        else:\n",
    "            raise ValueError(f\"Unsupported adj dimension: {adj.dim()}\")\n",
    "\n",
    "    def grand_conv(self, X, adj_norm):\n",
    "        X_agg = X.clone()\n",
    "        for _ in range(self.K):\n",
    "            X = adj_norm @ X\n",
    "            X_agg += X\n",
    "        return X_agg / (self.K + 1)\n",
    "\n",
    "    def gate_fusion(self, grand_feats, ggnn_feats):\n",
    "        \"\"\"Gated fusion mechanism combining GRAND and Gated GNN features\"\"\"\n",
    "        combined = torch.cat([grand_feats, ggnn_feats], dim=-1)\n",
    "        \n",
    "        # Gating mechanisms\n",
    "        reset = torch.sigmoid(self.reset_gate(combined))\n",
    "        update = torch.sigmoid(self.update_gate(combined))\n",
    "        \n",
    "        # Intermediate fusion state\n",
    "        intermediate = torch.tanh(self.fusion_gate(torch.cat([grand_feats, reset * ggnn_feats], dim=-1)))\n",
    "        \n",
    "        # Final fused output\n",
    "        fused_output = update * ggnn_feats + (1 - update) * intermediate\n",
    "        \n",
    "        # Output gate\n",
    "        output_gate = torch.sigmoid(self.output_gate(combined))\n",
    "        return output_gate * fused_output + (1 - output_gate) * grand_feats\n",
    "\n",
    "    def aggregate(self, x, mask=None):\n",
    "        \"\"\"Aggregate node features into graph-level embeddings\"\"\"\n",
    "        x_sum = torch.sum(x, dim=1, keepdim=True)\n",
    "        x_max = torch.amax(x, dim=1, keepdim=True)\n",
    "        x_mean = torch.mean(x, dim=1, keepdim=True)\n",
    "        \n",
    "        if self.att_op == 'sum':\n",
    "            return (x_sum + x_max).squeeze(1)\n",
    "        elif self.att_op == 'max+mean':\n",
    "            return (x_mean + x_max).squeeze(1)\n",
    "        elif self.att_op == 'concat':\n",
    "            return torch.cat((x_sum, x_max), dim=2).squeeze(1)\n",
    "        elif self.att_op == 'atten':            # 单头注意力\n",
    "            scores = self.att_fc(x).squeeze(-1)         # [B, N]\n",
    "            if mask is not None:\n",
    "                scores = scores.masked_fill(mask == 0, -1e9)\n",
    "            alpha = torch.softmax(scores, dim=1).unsqueeze(-1)\n",
    "            return (alpha * x).sum(dim=1)\n",
    "        elif self.att_op == 'mul_head':         # 多头注意力\n",
    "            scores = self.att_fc(x)                       # [B, N, H]\n",
    "            if mask is not None:\n",
    "                scores = scores.masked_fill(mask.unsqueeze(-1) == 0, -1e9)  \n",
    "            alpha = torch.softmax(scores, dim=1)\n",
    "            z_heads = (alpha.unsqueeze(-1) * x.unsqueeze(2)).sum(dim=1)\n",
    "            return z_heads.reshape(x.size(0), -1)\n",
    "        else:\n",
    "            # multiply\n",
    "            return (x_sum * x_max).squeeze(1)\n",
    "\n",
    "    def forward(self, inputs, adj, mask=None, seed=None):\n",
    "        inputs = inputs\n",
    "        adj = adj\n",
    "        mask = mask if mask is not None else None\n",
    "        \n",
    "        # Precompute Gated GNN features (only once)\n",
    "        ggnn_feats = self.gggnn(inputs, adj, mask) if mask is not None else self.gggnn(inputs, adj, torch.ones_like(inputs[:, :, 0]))\n",
    "        \n",
    "        if self.training:\n",
    "            emb_list = [] \n",
    "            enhanced_outputs = []\n",
    "            adj_norm = self.normalize_adj(adj)\n",
    "            \n",
    "            for i in range(self.S):\n",
    "                # GRAND feature propagation with node dropout\n",
    "                grand_inputs = drop_node(inputs, self.node_dropout_rate, True, seed=int(int(seed)*10+i))\n",
    "                grand_prop = torch.stack([self.grand_conv(grand_inputs[b], adj_norm[b]) for b in range(grand_inputs.size(0))])\n",
    "                \n",
    "                # Pass through GRAND's MLP\n",
    "                grand_mlp_out = self.grand_mlp(grand_prop.view(-1, grand_prop.size(-1)))\n",
    "                grand_feats = grand_mlp_out.view(inputs.size(0), -1, grand_mlp_out.size(-1))\n",
    "                \n",
    "                # Gated fusion of GRAND and Gated GNN features\n",
    "                fused_feats = self.gate_fusion(grand_feats, ggnn_feats)\n",
    "                \n",
    "                # Apply mask if provided\n",
    "                if mask is not None:\n",
    "                    fused_feats = fused_feats * mask.unsqueeze(-1)\n",
    "                \n",
    "                # Aggregate to graph-level\n",
    "                graph_emb = self.aggregate(fused_feats, mask)\n",
    "                emb_list.append(graph_emb) \n",
    "                enhanced_outputs.append(graph_emb)\n",
    "            \n",
    "            # Compute consistency loss\n",
    "            # ps = [torch.softmax(output, dim=-1) for output in enhanced_outputs]\n",
    "            # avg_p = torch.mean(torch.stack(ps, dim=0), dim=0)\n",
    "            # sharp_p = (torch.pow(avg_p, 1./self.temp) / \n",
    "            #           torch.sum(torch.pow(avg_p, 1./self.temp), dim=-1, keepdim=True)).detach()\n",
    "            \n",
    "            # consistency_loss = sum(torch.mean((p - sharp_p).pow(2).sum(dim=-1)) for p in ps) / len(ps)\n",
    "            \n",
    "            # Return mean graph embedding and consistency loss\n",
    "            # return torch.mean(torch.stack(enhanced_outputs, dim=0), dim=0), consistency_loss\n",
    "\n",
    "            return torch.stack(emb_list, dim=0), None\n",
    "        \n",
    "        \n",
    "        else:  # Inference mode\n",
    "            # GRAND feature propagation without dropout\n",
    "            adj_norm = self.normalize_adj(adj)\n",
    "            grand_prop = torch.stack([self.grand_conv(inputs[b], adj_norm[b]) for b in range(inputs.size(0))])\n",
    "            \n",
    "            # Pass through GRAND's MLP\n",
    "            grand_mlp_out = self.grand_mlp(grand_prop.view(-1, grand_prop.size(-1)))\n",
    "            grand_feats = grand_mlp_out.view(inputs.size(0), -1, grand_mlp_out.size(-1))\n",
    "            \n",
    "            # Gated fusion\n",
    "            fused_feats = self.gate_fusion(grand_feats, ggnn_feats)\n",
    "            \n",
    "            # Apply mask if provided\n",
    "            if mask is not None:\n",
    "                fused_feats = fused_feats * mask.unsqueeze(-1)\n",
    "            \n",
    "            # Aggregate to graph-level\n",
    "            graph_emb = self.aggregate(fused_feats, mask)\n",
    "            return graph_emb, None\n"
   ]
  },
  {
   "cell_type": "code",
   "execution_count": 4,
   "metadata": {},
   "outputs": [],
   "source": [
    "import torch.nn as nn, torch.nn.functional as F\n",
    "\n",
    "class Net(nn.Module):\n",
    "    def __init__(self, base_cfg, num_classes):\n",
    "        super().__init__()\n",
    "        self.encoder = GRAND_GatedFusion(**base_cfg).float()\n",
    "        self.classifier = nn.Linear(self.encoder.out_dim, num_classes)\n",
    "        # self.classifier = nn.Linear(base_cfg['hid_dim']*base_cfg['num_heads'],  # out_dim\n",
    "        #                             num_classes)\n",
    "\n",
    "    def forward(self, x, adj, mask, seed=None, train_consistency=True):\n",
    "        if self.training and train_consistency:\n",
    "            # ---------- (1) 取 [S, B, D] ----------\n",
    "            emb_stack, _ = self.encoder(x, adj, mask, seed=seed)\n",
    "\n",
    "            # ---------- (2) 得到 [S, B, C] ----------\n",
    "            logits_stack = self.classifier(emb_stack)\n",
    "\n",
    "            # ---------- (3) 计算 Sharpen consistency ----------\n",
    "            ps = torch.softmax(logits_stack, dim=-1)       # [S,B,C]\n",
    "            avg_p = ps.mean(dim=0)                         # [B,C]\n",
    "\n",
    "            temp = self.encoder.temp                       # 与 cfg 保持一致\n",
    "            sharp_p = (avg_p.pow(1. / temp) /\n",
    "                    avg_p.pow(1. / temp).sum(dim=-1, keepdim=True)).detach()\n",
    "\n",
    "            consistency = ((ps - sharp_p) ** 2).sum(-1).mean()\n",
    "\n",
    "            # ---------- (4) 把 S 个 logits 取平均做分类 ----------\n",
    "            logits = logits_stack.mean(dim=0)              # [B,C]\n",
    "\n",
    "        else:                                              # Eval 或关闭一致性\n",
    "            emb, _ = self.encoder(x, adj, mask)\n",
    "            logits = self.classifier(emb)\n",
    "            consistency = torch.tensor(0., device=logits.device)\n",
    "\n",
    "        return logits, consistency\n"
   ]
  },
  {
   "cell_type": "code",
   "execution_count": 5,
   "metadata": {},
   "outputs": [
    {
     "name": "stdout",
     "output_type": "stream",
     "text": [
      "env: http_proxy=http://10.254.25.18:7890\n",
      "env: https_proxy=http://10.254.25.18:7890\n",
      "env: TOKENIZERS_PARALLELISM=false\n"
     ]
    }
   ],
   "source": [
    "\n",
    "import json, re, os, random\n",
    "\n",
    "\n",
    "from dataclasses import dataclass\n",
    "from typing import List\n",
    "from torch.utils.data import Dataset, DataLoader, RandomSampler\n",
    "from transformers import (WEIGHTS_NAME, get_linear_schedule_with_warmup,\n",
    "                          BertConfig, BertForMaskedLM, BertTokenizer,\n",
    "                          GPT2Config, GPT2LMHeadModel, GPT2Tokenizer,\n",
    "                          OpenAIGPTConfig, OpenAIGPTLMHeadModel, OpenAIGPTTokenizer,\n",
    "                          RobertaConfig, RobertaForSequenceClassification, RobertaTokenizer,\n",
    "                          DistilBertConfig, DistilBertForMaskedLM, DistilBertTokenizer,\n",
    "                          LongformerConfig, LongformerForSequenceClassification, LongformerTokenizer,\n",
    "                          AutoTokenizer)\n",
    "# Jupyter Cell 2\n",
    "def clean_code(code: str) -> str:\n",
    "    \"\"\"去单/多行注释 + 空行\"\"\"\n",
    "    code = re.sub(r\"//.*?$\",     \"\", code, flags=re.MULTILINE)\n",
    "    code = re.sub(r\"/\\*.*?\\*/\",  \"\", code, flags=re.DOTALL)\n",
    "    code = re.sub(r\"^\\s*$\\n?\",   \"\", code, flags=re.MULTILINE)\n",
    "    return code.strip()\n",
    "\n",
    "@dataclass\n",
    "class InputFeatures:\n",
    "    input_ids:  List[int]\n",
    "    attention_mask: List[int]\n",
    "    label: int\n",
    "    idx: str\n",
    "\n",
    "def convert_example(js, tokenizer, block_size):\n",
    "    code = ' '.join(clean_code(js['func']).split())\n",
    "    tokens = tokenizer.tokenize(code)[: block_size - 2]\n",
    "    tokens = [tokenizer.cls_token] + tokens + [tokenizer.sep_token]\n",
    "\n",
    "    input_ids = tokenizer.convert_tokens_to_ids(tokens)\n",
    "    attn_mask = [1] * len(input_ids)\n",
    "\n",
    "    pad_len = block_size - len(input_ids)\n",
    "    input_ids += [tokenizer.pad_token_id] * pad_len\n",
    "    attn_mask += [0] * pad_len\n",
    "\n",
    "    return InputFeatures(\n",
    "        input_ids      = input_ids,\n",
    "        attention_mask = attn_mask,\n",
    "        label          = int(js['target']),\n",
    "        idx            = str(js['idx'])\n",
    "    )\n",
    "%env http_proxy=http://10.254.25.18:7890\n",
    "%env https_proxy=http://10.254.25.18:7890\n",
    "\n",
    "%env TOKENIZERS_PARALLELISM=false\n"
   ]
  },
  {
   "cell_type": "code",
   "execution_count": 6,
   "metadata": {},
   "outputs": [
    {
     "name": "stdout",
     "output_type": "stream",
     "text": [
      "using default unweighted graph\n"
     ]
    },
    {
     "name": "stderr",
     "output_type": "stream",
     "text": [
      "Some weights of RobertaForSequenceClassification were not initialized from the model checkpoint at microsoft/graphcodebert-base and are newly initialized: ['classifier.dense.bias', 'classifier.dense.weight', 'classifier.out_proj.bias', 'classifier.out_proj.weight']\n",
      "You should probably TRAIN this model on a down-stream task to be able to use it for predictions and inference.\n"
     ]
    }
   ],
   "source": [
    "tokenizer =  RobertaTokenizer.from_pretrained('microsoft/graphcodebert-base')\n",
    "\n",
    "\n",
    "# ('Yutong001/graphcodebert-c-backup')\n",
    "att_op_dict = {\n",
    "    'sum': 'sum',\n",
    "    'mul': 'mul',\n",
    "    'concat': 'concat'\n",
    "}\n",
    "\n",
    "\n",
    "\n",
    "weighted_graph = False\n",
    "print('using default unweighted graph')\n",
    "\n",
    "TF_IDF = True\n",
    "PMI =True\n",
    "\n",
    "from transformers import RobertaTokenizer  # 确保导入tokenizer\n",
    "# ('Yutong001/graphcodebert-c-backup')\n",
    "\n",
    "tokenizer =  RobertaTokenizer.from_pretrained('microsoft/graphcodebert-base')\n",
    "from collections import Counter\n",
    "\n",
    "def collect_global_stats(shuffle_doc_words_list, window_size=3):\n",
    "    token_freq  = Counter()      # P(w)\n",
    "    pair_freq   = Counter()      # P(w_i, w_j) 共现\n",
    "    total_windows = 0\n",
    "\n",
    "    for doc in shuffle_doc_words_list:\n",
    "        end = len(doc)\n",
    "        while end > 0 and doc[end-1] in {1, 2}:\n",
    "            end -= 1\n",
    "        doc = doc[:end]\n",
    "\n",
    "        # 更新 token 出现次数\n",
    "        token_freq.update(doc)\n",
    "\n",
    "        # 遍历窗口统计共现\n",
    "        if len(doc) <= window_size:\n",
    "            windows = [doc]\n",
    "        else:\n",
    "            windows = [doc[i:i+window_size] for i in range(len(doc)-window_size+1)]\n",
    "\n",
    "        for win in windows:\n",
    "            total_windows += 1\n",
    "            for i in range(1, len(win)):\n",
    "                for j in range(0, i):\n",
    "                    u, v = win[i], win[j]\n",
    "                    if u == v: \n",
    "                        continue\n",
    "                    pair_freq[(u, v)] += 1\n",
    "                    pair_freq[(v, u)] += 1   # 无向\n",
    "    return token_freq, pair_freq, total_windows\n",
    "\n",
    "\n",
    "\n",
    "\n",
    "\n",
    "\n",
    "def build_graph(shuffle_doc_words_list, word_embeddings, window_size=3, weighted_graph=True,TF_IDF=False, PMI=False):\n",
    "    if TF_IDF:\n",
    "        token_freq, pair_freq, W = collect_global_stats(shuffle_doc_words_list, window_size=window_size)\n",
    "        def pmi(u, v, W, eps=1e-9):\n",
    "            # 频数 → 概率\n",
    "            p_uv = pair_freq[(u, v)] / W\n",
    "            p_u  = token_freq[u] / W\n",
    "            p_v  = token_freq[v] / W\n",
    "            val = np.log((p_uv + eps) / (p_u * p_v + eps))\n",
    "            return max(val, 0.)          # 常见做法：负 PMI 设 0（稀疏化）\n",
    "        \n",
    "\n",
    "    x_adj = []\n",
    "    x_feature = []\n",
    "    doc_len_list = []\n",
    "    vocab_set = set()\n",
    "\n",
    "    # 确保 word_embeddings 是 NumPy 数组\n",
    "    if isinstance(word_embeddings, torch.Tensor):\n",
    "        embeddings_np = word_embeddings.cpu().numpy()\n",
    "    else:\n",
    "        embeddings_np = word_embeddings\n",
    "\n",
    "    for i in range(len(shuffle_doc_words_list)):\n",
    "        doc_words = shuffle_doc_words_list[i]\n",
    "        end = len(doc_words)\n",
    "        while end > 0 and doc_words[end-1] in {1, 2}:  # 移除padding\n",
    "            end -= 1\n",
    "        doc_words = doc_words[:end]\n",
    "        doc_len = len(doc_words)\n",
    "\n",
    "        # 获取token字符串表示\n",
    "        tokens_str = tokenizer.convert_ids_to_tokens(doc_words)\n",
    "        \n",
    "        doc_vocab = list(set(doc_words))\n",
    "        doc_nodes = len(doc_vocab)\n",
    "\n",
    "        doc_len_list.append(doc_nodes)\n",
    "        vocab_set.update(doc_vocab)\n",
    "\n",
    "        doc_word_id_map = {}\n",
    "        for j in range(doc_nodes):\n",
    "            doc_word_id_map[doc_vocab[j]] = j\n",
    "\n",
    "        # 使用defaultdict简化边计数\n",
    "        word_pair_count = defaultdict(float)\n",
    "\n",
    "        # 1. 添加滑动窗口共现边\n",
    "        windows = []\n",
    "        if doc_len <= window_size:\n",
    "            windows.append(doc_words)\n",
    "        else:\n",
    "            for j in range(doc_len - window_size + 1):\n",
    "                window = doc_words[j: j + window_size]\n",
    "                windows.append(window)\n",
    "\n",
    "        for window in windows:\n",
    "            for p in range(1, len(window)):\n",
    "                for q in range(0, p):\n",
    "                    word_p_id = window[p]\n",
    "                    word_q_id = window[q]\n",
    "                    if word_p_id == word_q_id:\n",
    "                        continue\n",
    "                    # 共现边（双向添加）\n",
    "                    word_pair_count[(word_p_id, word_q_id)] += 1.0\n",
    "                    word_pair_count[(word_q_id, word_p_id)] += 1.0\n",
    "\n",
    "        # 2. 添加基本的数据流边（基于常见代码模式）\n",
    "        for pos in range(1, doc_len):\n",
    "            current_token = doc_words[pos]\n",
    "            prev_token = doc_words[pos-1]\n",
    "            current_token_str = tokens_str[pos]\n",
    "            \n",
    "            # 模式1: 赋值语句 (a = b)\n",
    "            # 处理带空格的等号 (Ġ=) 和普通等号 (=)\n",
    "            if current_token_str in [\"=\", \"Ġ=\"] and pos > 0 and pos < doc_len - 1:\n",
    "                # 连接左侧变量和右侧表达式\n",
    "                if pos >= 1 and pos < doc_len - 1:\n",
    "                    left_var = doc_words[pos-1]\n",
    "                    right_expr = doc_words[pos+1]\n",
    "                    word_pair_count[(left_var, right_expr)] += 2.0\n",
    "                    word_pair_count[(right_expr, left_var)] += 2.0\n",
    "            \n",
    "            # 模式2: 方法调用 (obj.method())\n",
    "            # 处理带空格的点 (Ġ.) 和普通点 (.)\n",
    "            if current_token_str in [\".\", \"Ġ.\"] and pos > 0 and pos < doc_len - 1:\n",
    "                # 连接对象和方法名\n",
    "                if pos >= 1 and pos < doc_len - 1:\n",
    "                    obj = doc_words[pos-1]\n",
    "                    method = doc_words[pos+1]\n",
    "                    word_pair_count[(obj, method)] += 1.5\n",
    "                    word_pair_count[(method, obj)] += 1.5\n",
    "            \n",
    "            # 模式3: 函数参数 (func(a, b))\n",
    "            # 处理带空格的开括号 (Ġ() 和普通开括号 (()\n",
    "            if current_token_str in [\"(\", \"Ġ(\"] and pos > 0:\n",
    "                # 连接函数名和参数\n",
    "                func_name = doc_words[pos-1]\n",
    "                # 添加函数名到下一个token的边\n",
    "                if pos < doc_len - 1:\n",
    "                    first_param = doc_words[pos+1]\n",
    "                    word_pair_count[(func_name, first_param)] += 1.2\n",
    "                    word_pair_count[(first_param, func_name)] += 1.2\n",
    "                # 添加函数名到所有后续参数\n",
    "                param_pos = pos + 1\n",
    "                # 处理带空格的闭括号 (Ġ)) 和普通闭括号 ())\n",
    "                while param_pos < doc_len and tokens_str[param_pos] not in [\")\", \"Ġ)\"]:\n",
    "                    if tokens_str[param_pos] not in [\",\", \"Ġ,\", \";\", \"Ġ;\"]:\n",
    "                        param_token = doc_words[param_pos]\n",
    "                        word_pair_count[(func_name, param_token)] += 0.8\n",
    "                        word_pair_count[(param_token, func_name)] += 0.8\n",
    "                    param_pos += 1\n",
    "            \n",
    "            # 模式4: 返回值 (return x)\n",
    "            # 检查带空格的return (Ġreturn) 和普通return (return)\n",
    "            if tokens_str[pos-1] in [\"return\", \"Ġreturn\"] and pos > 1:\n",
    "                return_value = current_token\n",
    "                word_pair_count[(prev_token, return_value)] += 1.3\n",
    "                word_pair_count[(return_value, prev_token)] += 1.3\n",
    "\n",
    "        # 3. 添加子词连接边（处理长变量名）\n",
    "        current_var_tokens = []  # 当前变量名的token序列\n",
    "        \n",
    "        for pos in range(doc_len):\n",
    "            token_id = doc_words[pos]\n",
    "            token_str = tokens_str[pos]\n",
    "            \n",
    "            # 检查是否是变量名的开始或延续\n",
    "            if token_str.startswith(\"Ġ\") or not current_var_tokens:\n",
    "                # 新token开始（以空格开头或当前序列为空）\n",
    "                if current_var_tokens:\n",
    "                    # 连接当前变量名的所有token\n",
    "                    for idx in range(1, len(current_var_tokens)):\n",
    "                        prev_id = current_var_tokens[idx-1]\n",
    "                        curr_id = current_var_tokens[idx]\n",
    "                        \n",
    "                        # 添加强连接（双向）\n",
    "                        word_pair_count[(prev_id, curr_id)] += 3.0\n",
    "                        word_pair_count[(curr_id, prev_id)] += 3.0\n",
    "                \n",
    "                # 重置当前变量名（跳过特殊token和运算符）\n",
    "                # 只将标识符加入变量名序列\n",
    "                if token_str not in [\"[CLS]\", \"[SEP]\", \"[PAD]\", \"(\", \")\", \"{\", \"}\", \"=\", \".\", \",\", \";\"] \\\n",
    "                   and not token_str.startswith(\"Ġ(\") \\\n",
    "                   and not token_str.startswith(\"Ġ)\") \\\n",
    "                   and not token_str.startswith(\"Ġ{\") \\\n",
    "                   and not token_str.startswith(\"Ġ}\") \\\n",
    "                   and not token_str.startswith(\"Ġ=\") \\\n",
    "                   and not token_str.startswith(\"Ġ.\") \\\n",
    "                   and not token_str.startswith(\"Ġ,\") \\\n",
    "                   and not token_str.startswith(\"Ġ;\"):\n",
    "                    current_var_tokens = [token_id]\n",
    "                else:\n",
    "                    current_var_tokens = []\n",
    "            elif token_str.startswith(\"##\") or token_str.isalnum() or '_' in token_str:\n",
    "                # 变量名延续（子词token或标识符）\n",
    "                current_var_tokens.append(token_id)\n",
    "            else:\n",
    "                # 其他token（标点、关键字等）\n",
    "                if current_var_tokens:\n",
    "                    # 连接当前变量名的所有token\n",
    "                    for idx in range(1, len(current_var_tokens)):\n",
    "                        prev_id = current_var_tokens[idx-1]\n",
    "                        curr_id = current_var_tokens[idx]\n",
    "                        \n",
    "                        word_pair_count[(prev_id, curr_id)] += 3.0\n",
    "                        word_pair_count[(curr_id, prev_id)] += 3.0\n",
    "                current_var_tokens = []\n",
    "        \n",
    "        # 处理文档末尾的变量名\n",
    "        if current_var_tokens:\n",
    "            for idx in range(1, len(current_var_tokens)):\n",
    "                prev_id = current_var_tokens[idx-1]\n",
    "                curr_id = current_var_tokens[idx]\n",
    "                \n",
    "                word_pair_count[(prev_id, curr_id)] += 3.0\n",
    "                word_pair_count[(curr_id, prev_id)] += 3.0\n",
    "\n",
    "        # 构建邻接矩阵\n",
    "        row, col, weight = [], [], []\n",
    "        for (u, v), w in word_pair_count.items():\n",
    "            if u in doc_word_id_map and v in doc_word_id_map:\n",
    "                row.append(doc_word_id_map[u])\n",
    "                col.append(doc_word_id_map[v])\n",
    "                if TF_IDF:\n",
    "                    weight.append(pmi(u, v, W))\n",
    "                else:\n",
    "                    weight.append(w if weighted_graph else 1.0)\n",
    "        \n",
    "        adj = sp.csr_matrix((weight, (row, col)), shape=(doc_nodes, doc_nodes))\n",
    "        x_adj.append(adj)\n",
    "\n",
    "        # 构建节点特征\n",
    "        features = []\n",
    "        for word_id in doc_vocab:\n",
    "            # 确保 word_id 是整数\n",
    "            word_id = int(word_id)\n",
    "            \n",
    "            # 检查索引是否在嵌入矩阵范围内\n",
    "            if word_id < embeddings_np.shape[0]:\n",
    "                features.append(embeddings_np[word_id])\n",
    "            else:\n",
    "                # 处理超出范围的索引 - 使用零向量\n",
    "                features.append(np.zeros(embeddings_np.shape[1]))\n",
    "        \n",
    "        x_feature.append(features)\n",
    "\n",
    "    return x_adj, x_feature\n",
    "\n",
    "class JsonlCodeDataset(Dataset):\n",
    "    def __init__(self, file_path, tokenizer, block_size=512, sample_percent=1.0):\n",
    "        self.features = []\n",
    "        with open(file_path) as f:\n",
    "            total = sum(1 for _ in f)\n",
    "        with open(file_path) as f:\n",
    "            for line in tqdm(f, total=total, desc=\"Building dataset\"):\n",
    "                js = json.loads(line)\n",
    "                feat = convert_example(js, tokenizer, block_size)\n",
    "                self.features.append(feat)\n",
    "\n",
    "        # 采样（可选）\n",
    "        if 0 < sample_percent < 1.0:\n",
    "            random.seed(42)\n",
    "            random.shuffle(self.features)\n",
    "            keep_num = int(sample_percent * len(self.features))\n",
    "            self.features = self.features[:keep_num]\n",
    "\n",
    "    def __len__(self):\n",
    "        return len(self.features)\n",
    "\n",
    "    def __getitem__(self, idx):\n",
    "        feat = self.features[idx]\n",
    "        return (\n",
    "            torch.tensor(feat.input_ids,      dtype=torch.long),\n",
    "            torch.tensor(feat.attention_mask, dtype=torch.long),\n",
    "            torch.tensor(feat.label,          dtype=torch.long),\n",
    "        )\n",
    "    \n",
    "model = RobertaForSequenceClassification.from_pretrained('microsoft/graphcodebert-base').to('cpu')\n",
    "w_embeddings = model.get_input_embeddings().weight.data.cpu().detach().clone().numpy()\n",
    "def collate_graph(batch, window_size=3):\n",
    "    \"\"\"\n",
    "    batch 由 Dataset 返回的:\n",
    "        input_ids, attn_mask, label\n",
    "    本函数在 CPU 上:\n",
    "        1) 转成 numpy list\n",
    "        2) 调 build_graph\n",
    "        3) 把 scipy csr 转成 PyG/DGL 或留作训练时再转\n",
    "    \"\"\"\n",
    "    ids, masks, labels = zip(*batch)                 # tuple of Tensor\n",
    "    ids_np  = [x.numpy() for x in ids]               # 每条句子 token-id list\n",
    "    labels  = torch.stack(labels)                    # Tensor [B]\n",
    "\n",
    "    # --- 调你的 graph 构造 ---\n",
    "    x_adj, x_feat = build_graph(\n",
    "        shuffle_doc_words_list = ids_np,\n",
    "        word_embeddings        = w_embeddings,\n",
    "        window_size            = window_size,\n",
    "        weighted_graph         = True,\n",
    "        TF_IDF                 = True\n",
    "    )\n",
    "\n",
    "    return {\n",
    "        \"input_ids\" : torch.stack(ids),              # [B, L]\n",
    "        \"attention_mask\": torch.stack(masks),        # [B, L]\n",
    "        \"labels\": labels,                            # [B]\n",
    "        \"adjs\":  x_adj,                              # list\n",
    "        \"feats\": x_feat                              # list\n",
    "    }\n"
   ]
  },
  {
   "cell_type": "code",
   "execution_count": 7,
   "metadata": {},
   "outputs": [
    {
     "data": {
      "text/plain": [
       "<torch._C.Generator at 0x72695c0da370>"
      ]
     },
     "execution_count": 7,
     "metadata": {},
     "output_type": "execute_result"
    }
   ],
   "source": [
    "import os, random, numpy as np, torch\n",
    "seed_number=42\n",
    "def set_global_seed(seed: int = 42):\n",
    "    os.environ[\"PYTHONHASHSEED\"] = str(seed)        # Python 层哈希随机\n",
    "    random.seed(seed)                               # 内置 random\n",
    "    np.random.seed(seed)                            # numpy\n",
    "    torch.manual_seed(seed)                         # CPU\n",
    "    torch.cuda.manual_seed(seed)                    # 当前 GPU\n",
    "    torch.cuda.manual_seed_all(seed)                # 所有 GPU\n",
    "\n",
    "    # 额外：在部分算子中强制使用确定性实现\n",
    "    torch.backends.cudnn.deterministic = True\n",
    "    torch.backends.cudnn.benchmark = False          # 禁止自动算法搜索\n",
    "    torch.use_deterministic_algorithms(True)        # ≥1.8，捕获非确定性算子\n",
    "\n",
    "    # CUDA ≥ 10.2：卷积类算子还需要这个环境变量\n",
    "    os.environ[\"CUBLAS_WORKSPACE_CONFIG\"] = \":16:8\"\n",
    "\n",
    "set_global_seed(seed_number)\n",
    "\n",
    "def seed_worker(worker_id):\n",
    "    # 每个 worker 用不同 seed，但与主进程严格可重复\n",
    "    worker_seed = torch.initial_seed() % 2**32\n",
    "    np.random.seed(worker_seed)\n",
    "    random.seed(worker_seed)\n",
    "\n",
    "g = torch.Generator()\n",
    "g.manual_seed(seed_number)"
   ]
  },
  {
   "cell_type": "code",
   "execution_count": 8,
   "metadata": {},
   "outputs": [
    {
     "name": "stderr",
     "output_type": "stream",
     "text": [
      "Building dataset:   0%|          | 0/21854 [00:00<?, ?it/s]Token indices sequence length is longer than the specified maximum sequence length for this model (702 > 512). Running this sequence through the model will result in indexing errors\n",
      "Building dataset: 100%|██████████| 21854/21854 [00:29<00:00, 744.63it/s]\n",
      "/home/yt/anaconda3/envs/openr/lib/python3.10/site-packages/torch/utils/data/dataloader.py:627: UserWarning: This DataLoader will create 32 worker processes in total. Our suggested max number of worker in current system is 20, which is smaller than what this DataLoader is going to create. Please be aware that excessive worker creation might get DataLoader running slow or even freeze, lower the worker number to avoid potential slowness/freeze if necessary.\n",
      "  warnings.warn(\n",
      "Building dataset: 100%|██████████| 2732/2732 [00:03<00:00, 740.17it/s]\n",
      "Building dataset: 100%|██████████| 2732/2732 [00:05<00:00, 546.02it/s]\n"
     ]
    }
   ],
   "source": [
    "# Jupyter Cell 4\n",
    "# MODEL_NAME = \"Salesforce/codet5-base\"   # 或 graphcodebert-base\n",
    "# MODEL_NAME = 'Yutong001/graphcodebert-c-backup'\n",
    "MODEL_NAME = ('microsoft/graphcodebert-base')\n",
    "\n",
    "tokenizer = AutoTokenizer.from_pretrained(MODEL_NAME)\n",
    "\n",
    "BLOCK_SIZE = 1024*8        # <— 最大输入长度\n",
    "BATCH_SIZE = 128\n",
    "\n",
    "\n",
    "train_ds = JsonlCodeDataset(\"dataset/train.jsonl\", tokenizer, block_size=BLOCK_SIZE)\n",
    "train_loader = DataLoader(\n",
    "    train_ds,\n",
    "    sampler = RandomSampler(train_ds, generator=g), # generator 已锁定\n",
    "    batch_size = BATCH_SIZE,\n",
    "    collate_fn = collate_graph,\n",
    "    num_workers = 32,\n",
    "    pin_memory = True,\n",
    "    persistent_workers=True,\n",
    "    # prefetch_factor=4, \n",
    "    worker_init_fn = seed_worker                 # ★ 加这一行\n",
    ")\n",
    "\n",
    "# 验证集\n",
    "val_ds  = JsonlCodeDataset(\"dataset/valid.jsonl\", tokenizer, block_size=BLOCK_SIZE)\n",
    "val_loader = DataLoader(\n",
    "    val_ds,\n",
    "    sampler = RandomSampler(val_ds, replacement=False),\n",
    "    batch_size = BATCH_SIZE,\n",
    "    collate_fn = collate_graph,     # ⭐️ 重点\n",
    "    num_workers = 8,\n",
    "    pin_memory = True,\n",
    "    persistent_workers=True,\n",
    "    prefetch_factor=4, \n",
    "    worker_init_fn = seed_worker \n",
    ")\n",
    "\n",
    "test_ds  = JsonlCodeDataset(\"dataset/test.jsonl\", tokenizer, block_size=BLOCK_SIZE)\n",
    "test_loader = DataLoader(\n",
    "    test_ds,\n",
    "    sampler = RandomSampler(test_ds, replacement=False),\n",
    "    batch_size = BATCH_SIZE,\n",
    "    collate_fn = collate_graph,     # ⭐️ 重点\n",
    "    num_workers = 8,\n",
    "    pin_memory = True,\n",
    "    worker_init_fn = seed_worker \n",
    ")\n",
    "# 38s\n",
    "\n"
   ]
  },
  {
   "cell_type": "code",
   "execution_count": 9,
   "metadata": {},
   "outputs": [],
   "source": [
    "# batch = next(iter(train_loader))\n",
    "# print(\"keys:\", batch.keys())\n",
    "# print(\"input_ids\", batch[\"input_ids\"].shape)\n",
    "# print(\"input_ids\", batch[\"input_ids\"][0].tolist()[:300])\n",
    "# tokens_str = tokenizer.convert_ids_to_tokens(batch[\"input_ids\"][0].tolist()[:300])\n",
    "# print(\"tokens_str:\", tokens_str)\n",
    "# print(\"len(adjs) :\", len(batch[\"adjs\"]), \" first adj shape :\", batch[\"adjs\"][0].shape)\n",
    "# print(\"feats[0]  :\", np.array(batch['feats'][0]).shape)\n",
    "\n",
    "\n",
    "# keys: dict_keys(['input_ids', 'attention_mask', 'labels', 'adjs', 'feats'])\n",
    "# input_ids torch.Size([128, 2048])\n",
    "# input_ids [0, 42653, 13842, 1119, 1215, 48696, 1215, 3654, 4591, 1215, 23976, 1640, 534, 48222, 1009, 45416, 6, 272, 48222, 1009, 23976, 1215, 13650, 6, 49315, 2881, 1215, 90, 923, 6, 6979, 1836, 43, 25522, 272, 48222, 1009, 3654, 4591, 5457, 1119, 1215, 48429, 1215, 30766, 47006, 49315, 398, 1215, 90, 5963, 5457, 321, 1178, 250, 288, 131, 1119, 1215, 48696, 1215, 47692, 1640, 3654, 4591, 6, 321, 1178, 6478, 4397, 1119, 1215, 48696, 1215, 47692, 1640, 3654, 4591, 6, 321, 1178, 4671, 4397, 1119, 1215, 48696, 1215, 19434, 1640, 3654, 4591, 6, 923, 6, 1836, 4397, 1119, 1215, 48696, 1215, 47692, 1640, 3654, 4591, 6, 321, 1178, 5334, 4397, 1119, 1215, 48696, 1215, 30766, 1640, 3654, 4591, 6, 1002, 1215, 13650, 4397, 1119, 1215, 48696, 1215, 47692, 1640, 3654, 4591, 6, 321, 1178, 4563, 4397, 1119, 1215, 46181, 1640, 3654, 4591, 6, 5963, 6, 112, 4397, 1119, 1215, 48696, 1215, 30766, 1640, 45416, 6, 18981, 4397, 1119, 1215, 3743, 1215, 30766, 1640, 3654, 4591, 4397, 35524, 2, 1, 1, 1, 1, 1, 1, 1, 1, 1, 1, 1, 1, 1, 1, 1, 1, 1, 1, 1, 1, 1, 1, 1, 1, 1, 1, 1, 1, 1, 1, 1, 1, 1, 1, 1, 1, 1, 1, 1, 1, 1, 1, 1, 1, 1, 1, 1, 1, 1, 1, 1, 1, 1, 1, 1, 1, 1, 1, 1, 1, 1, 1, 1, 1, 1, 1, 1, 1, 1, 1, 1, 1, 1, 1, 1, 1, 1, 1, 1, 1, 1, 1, 1, 1, 1, 1, 1, 1, 1, 1, 1, 1, 1, 1, 1, 1, 1, 1, 1, 1, 1, 1, 1, 1, 1, 1, 1, 1, 1, 1, 1, 1, 1, 1, 1, 1, 1, 1, 1, 1, 1, 1, 1, 1, 1, 1, 1, 1, 1, 1, 1, 1, 1]\n",
    "# tokens_str: ['<s>', 'static', 'Ġvoid', 'Ġbuild', '_', 'append', '_', 'not', 'ify', '_', 'target', '(', 'G', 'Array', 'Ġ*', 'method', ',', 'ĠG', 'Array', 'Ġ*', 'target', '_', 'name', ',', 'Ġuint', '32', '_', 't', 'Ġvalue', ',', 'Ġint', 'Ġsize', ')', 'Ġ{', 'ĠG', 'Array', 'Ġ*', 'not', 'ify', 'Ġ=', 'Ġbuild', '_', 'alloc', '_', 'array', '();', 'Ġuint', '8', '_', 't', 'Ġop', 'Ġ=', 'Ġ0', 'x', 'A', '0', ';', 'Ġbuild', '_', 'append', '_', 'byte', '(', 'not', 'ify', ',', 'Ġ0', 'x', '93', ');', 'Ġbuild', '_', 'append', '_', 'byte', '(', 'not', 'ify', ',', 'Ġ0', 'x', '68', ');', 'Ġbuild', '_', 'append', '_', 'value', '(', 'not', 'ify', ',', 'Ġvalue', ',', 'Ġsize', ');', 'Ġbuild', '_', 'append', '_', 'byte', '(', 'not', 'ify', ',', 'Ġ0', 'x', '86', ');', 'Ġbuild', '_', 'append', '_', 'array', '(', 'not', 'ify', ',', 'Ġtarget', '_', 'name', ');', 'Ġbuild', '_', 'append', '_', 'byte', '(', 'not', 'ify', ',', 'Ġ0', 'x', '69', ');', 'Ġbuild', '_', 'package', '(', 'not', 'ify', ',', 'Ġop', ',', 'Ġ1', ');', 'Ġbuild', '_', 'append', '_', 'array', '(', 'method', ',', 'Ġnotify', ');', 'Ġbuild', '_', 'free', '_', 'array', '(', 'not', 'ify', ');', 'Ġ}', '</s>', '<pad>', '<pad>', '<pad>', '<pad>', '<pad>', '<pad>', '<pad>', '<pad>', '<pad>', '<pad>', '<pad>', '<pad>', '<pad>', '<pad>', '<pad>', '<pad>', '<pad>', '<pad>', '<pad>', '<pad>', '<pad>', '<pad>', '<pad>', '<pad>', '<pad>', '<pad>', '<pad>', '<pad>', '<pad>', '<pad>', '<pad>', '<pad>', '<pad>', '<pad>', '<pad>', '<pad>', '<pad>', '<pad>', '<pad>', '<pad>', '<pad>', '<pad>', '<pad>', '<pad>', '<pad>', '<pad>', '<pad>', '<pad>', '<pad>', '<pad>', '<pad>', '<pad>', '<pad>', '<pad>', '<pad>', '<pad>', '<pad>', '<pad>', '<pad>', '<pad>', '<pad>', '<pad>', '<pad>', '<pad>', '<pad>', '<pad>', '<pad>', '<pad>', '<pad>', '<pad>', '<pad>', '<pad>', '<pad>', '<pad>', '<pad>', '<pad>', '<pad>', '<pad>', '<pad>', '<pad>', '<pad>', '<pad>', '<pad>', '<pad>', '<pad>', '<pad>', '<pad>', '<pad>', '<pad>', '<pad>', '<pad>', '<pad>', '<pad>', '<pad>', '<pad>', '<pad>', '<pad>', '<pad>', '<pad>', '<pad>', '<pad>', '<pad>', '<pad>', '<pad>', '<pad>', '<pad>', '<pad>', '<pad>', '<pad>', '<pad>', '<pad>', '<pad>', '<pad>', '<pad>', '<pad>', '<pad>', '<pad>', '<pad>', '<pad>', '<pad>', '<pad>', '<pad>', '<pad>', '<pad>', '<pad>', '<pad>', '<pad>', '<pad>', '<pad>', '<pad>', '<pad>', '<pad>', '<pad>']\n",
    "# len(adjs) : 128  first adj shape : (49, 49)\n",
    "# feats[0]  : (49, 768)"
   ]
  },
  {
   "cell_type": "code",
   "execution_count": 11,
   "metadata": {},
   "outputs": [
    {
     "name": "stderr",
     "output_type": "stream",
     "text": [
      "                                                                                                 \r"
     ]
    },
    {
     "name": "stdout",
     "output_type": "stream",
     "text": [
      "Epoch 001 | train_loss 0.8188 (cls) + 0.0225 (cons)  triain_acc 0.5425 | val_loss 0.7593 acc 0.5673 | P 1.0000 R 0.0042 F1 0.0084\n"
     ]
    },
    {
     "name": "stderr",
     "output_type": "stream",
     "text": [
      "                                                                                                 \r"
     ]
    },
    {
     "name": "stdout",
     "output_type": "stream",
     "text": [
      "Epoch 002 | train_loss 0.7792 (cls) + 0.0222 (cons)  triain_acc 0.5481 | val_loss 0.7286 acc 0.5743 | P 0.6053 R 0.0581 F1 0.1061\n"
     ]
    },
    {
     "name": "stderr",
     "output_type": "stream",
     "text": [
      "                                                                                                 \r"
     ]
    },
    {
     "name": "stdout",
     "output_type": "stream",
     "text": [
      "Epoch 003 | train_loss 0.7489 (cls) + 0.0208 (cons)  triain_acc 0.5628 | val_loss 0.7246 acc 0.5769 | P 0.6476 R 0.0573 F1 0.1053\n"
     ]
    },
    {
     "name": "stderr",
     "output_type": "stream",
     "text": [
      "                                                                                                 \r"
     ]
    },
    {
     "name": "stdout",
     "output_type": "stream",
     "text": [
      "Epoch 004 | train_loss 0.7391 (cls) + 0.0218 (cons)  triain_acc 0.5638 | val_loss 0.6733 acc 0.6065 | P 0.6217 R 0.2409 F1 0.3473\n",
      "💾 Saved new best ckpt: acc=0.6065 @ epoch 004\n"
     ]
    },
    {
     "name": "stderr",
     "output_type": "stream",
     "text": [
      "                                                                                                 \r"
     ]
    },
    {
     "name": "stdout",
     "output_type": "stream",
     "text": [
      "Epoch 005 | train_loss 0.6951 (cls) + 0.0220 (cons)  triain_acc 0.5952 | val_loss 0.6874 acc 0.5944 | P 0.5427 R 0.4229 F1 0.4754\n"
     ]
    },
    {
     "name": "stderr",
     "output_type": "stream",
     "text": [
      "                                                                                                 \r"
     ]
    },
    {
     "name": "stdout",
     "output_type": "stream",
     "text": [
      "Epoch 006 | train_loss 0.6812 (cls) + 0.0230 (cons)  triain_acc 0.6120 | val_loss 0.7455 acc 0.5827 | P 0.5121 R 0.8382 F1 0.6358\n"
     ]
    },
    {
     "name": "stderr",
     "output_type": "stream",
     "text": [
      "                                                                                                 \r"
     ]
    },
    {
     "name": "stdout",
     "output_type": "stream",
     "text": [
      "Epoch 007 | train_loss 0.6600 (cls) + 0.0243 (cons)  triain_acc 0.6254 | val_loss 0.7227 acc 0.6138 | P 0.5610 R 0.5114 F1 0.5350\n",
      "💾 Saved new best ckpt: acc=0.6138 @ epoch 007\n"
     ]
    },
    {
     "name": "stderr",
     "output_type": "stream",
     "text": [
      "                                                                                                 \r"
     ]
    },
    {
     "name": "stdout",
     "output_type": "stream",
     "text": [
      "Epoch 008 | train_loss 0.6434 (cls) + 0.0258 (cons)  triain_acc 0.6443 | val_loss 0.7163 acc 0.6204 | P 0.5705 R 0.5114 F1 0.5393\n",
      "💾 Saved new best ckpt: acc=0.6204 @ epoch 008\n"
     ]
    },
    {
     "name": "stderr",
     "output_type": "stream",
     "text": [
      "                                                                                                 \r"
     ]
    },
    {
     "name": "stdout",
     "output_type": "stream",
     "text": [
      "Epoch 009 | train_loss 0.6332 (cls) + 0.0263 (cons)  triain_acc 0.6485 | val_loss 0.7239 acc 0.6245 | P 0.5826 R 0.4785 F1 0.5254\n",
      "💾 Saved new best ckpt: acc=0.6245 @ epoch 009\n"
     ]
    },
    {
     "name": "stderr",
     "output_type": "stream",
     "text": [
      "                                                                                                 \r"
     ]
    },
    {
     "name": "stdout",
     "output_type": "stream",
     "text": [
      "Epoch 010 | train_loss 0.6178 (cls) + 0.0278 (cons)  triain_acc 0.6607 | val_loss 0.8114 acc 0.6102 | P 0.6052 R 0.2957 F1 0.3973\n"
     ]
    },
    {
     "name": "stderr",
     "output_type": "stream",
     "text": [
      "                                                                                                 \r"
     ]
    },
    {
     "name": "stdout",
     "output_type": "stream",
     "text": [
      "Epoch 011 | train_loss 0.6074 (cls) + 0.0281 (cons)  triain_acc 0.6689 | val_loss 0.7471 acc 0.6365 | P 0.6256 R 0.4069 F1 0.4931\n",
      "💾 Saved new best ckpt: acc=0.6365 @ epoch 011\n"
     ]
    },
    {
     "name": "stderr",
     "output_type": "stream",
     "text": [
      "                                                                                                 \r"
     ]
    },
    {
     "name": "stdout",
     "output_type": "stream",
     "text": [
      "Epoch 012 | train_loss 0.5959 (cls) + 0.0292 (cons)  triain_acc 0.6774 | val_loss 0.7206 acc 0.6395 | P 0.6018 R 0.5029 F1 0.5480\n",
      "💾 Saved new best ckpt: acc=0.6395 @ epoch 012\n"
     ]
    },
    {
     "name": "stderr",
     "output_type": "stream",
     "text": [
      "                                                                                                 \r"
     ]
    },
    {
     "name": "stdout",
     "output_type": "stream",
     "text": [
      "Epoch 013 | train_loss 0.5886 (cls) + 0.0296 (cons)  triain_acc 0.6846 | val_loss 0.7989 acc 0.5992 | P 0.5252 R 0.8062 F1 0.6361\n"
     ]
    },
    {
     "name": "stderr",
     "output_type": "stream",
     "text": [
      "                                                                                                 \r"
     ]
    },
    {
     "name": "stdout",
     "output_type": "stream",
     "text": [
      "Epoch 014 | train_loss 0.5797 (cls) + 0.0300 (cons)  triain_acc 0.6859 | val_loss 0.7094 acc 0.6435 | P 0.5871 R 0.6049 F1 0.5959\n",
      "💾 Saved new best ckpt: acc=0.6435 @ epoch 014\n"
     ]
    },
    {
     "name": "stderr",
     "output_type": "stream",
     "text": [
      "                                                                                                 \r"
     ]
    },
    {
     "name": "stdout",
     "output_type": "stream",
     "text": [
      "Epoch 015 | train_loss 0.5747 (cls) + 0.0303 (cons)  triain_acc 0.6959 | val_loss 0.7768 acc 0.6226 | P 0.6154 R 0.3505 F1 0.4466\n"
     ]
    },
    {
     "name": "stderr",
     "output_type": "stream",
     "text": [
      "                                                                                                 \r"
     ]
    },
    {
     "name": "stdout",
     "output_type": "stream",
     "text": [
      "Epoch 016 | train_loss 0.5624 (cls) + 0.0311 (cons)  triain_acc 0.7039 | val_loss 0.7316 acc 0.6376 | P 0.5893 R 0.5476 F1 0.5677\n"
     ]
    },
    {
     "name": "stderr",
     "output_type": "stream",
     "text": [
      "                                                                                                 \r"
     ]
    },
    {
     "name": "stdout",
     "output_type": "stream",
     "text": [
      "Epoch 017 | train_loss 0.5556 (cls) + 0.0315 (cons)  triain_acc 0.7079 | val_loss 0.7724 acc 0.6380 | P 0.5865 R 0.5653 F1 0.5757\n"
     ]
    },
    {
     "name": "stderr",
     "output_type": "stream",
     "text": [
      "                                                                                                 \r"
     ]
    },
    {
     "name": "stdout",
     "output_type": "stream",
     "text": [
      "Epoch 018 | train_loss 0.5444 (cls) + 0.0319 (cons)  triain_acc 0.7136 | val_loss 0.7614 acc 0.6391 | P 0.5938 R 0.5358 F1 0.5633\n"
     ]
    },
    {
     "name": "stderr",
     "output_type": "stream",
     "text": [
      "                                                                                                 \r"
     ]
    },
    {
     "name": "stdout",
     "output_type": "stream",
     "text": [
      "Epoch 019 | train_loss 0.5371 (cls) + 0.0317 (cons)  triain_acc 0.7171 | val_loss 0.7548 acc 0.6402 | P 0.5971 R 0.5282 F1 0.5606\n"
     ]
    },
    {
     "name": "stderr",
     "output_type": "stream",
     "text": [
      "                                                                                                 \r"
     ]
    },
    {
     "name": "stdout",
     "output_type": "stream",
     "text": [
      "Epoch 020 | train_loss 0.6024 (cls) + 0.0333 (cons)  triain_acc 0.6931 | val_loss 0.7270 acc 0.6318 | P 0.6020 R 0.4499 F1 0.5149\n"
     ]
    },
    {
     "name": "stderr",
     "output_type": "stream",
     "text": [
      "                                                                                                 \r"
     ]
    },
    {
     "name": "stdout",
     "output_type": "stream",
     "text": [
      "Epoch 021 | train_loss 0.5442 (cls) + 0.0346 (cons)  triain_acc 0.7122 | val_loss 0.7303 acc 0.6442 | P 0.5929 R 0.5779 F1 0.5853\n",
      "💾 Saved new best ckpt: acc=0.6442 @ epoch 021\n"
     ]
    },
    {
     "name": "stderr",
     "output_type": "stream",
     "text": [
      "                                                                                                 \r"
     ]
    },
    {
     "name": "stdout",
     "output_type": "stream",
     "text": [
      "Epoch 022 | train_loss 0.5364 (cls) + 0.0355 (cons)  triain_acc 0.7214 | val_loss 0.7540 acc 0.6468 | P 0.5925 R 0.5990 F1 0.5957\n",
      "💾 Saved new best ckpt: acc=0.6468 @ epoch 022\n"
     ]
    },
    {
     "name": "stderr",
     "output_type": "stream",
     "text": [
      "                                                                                                 \r"
     ]
    },
    {
     "name": "stdout",
     "output_type": "stream",
     "text": [
      "Epoch 023 | train_loss 0.5329 (cls) + 0.0350 (cons)  triain_acc 0.7223 | val_loss 0.7410 acc 0.6417 | P 0.6030 R 0.5131 F1 0.5544\n"
     ]
    },
    {
     "name": "stderr",
     "output_type": "stream",
     "text": [
      "                                                                                                 \r"
     ]
    },
    {
     "name": "stdout",
     "output_type": "stream",
     "text": [
      "Epoch 024 | train_loss 0.5202 (cls) + 0.0356 (cons)  triain_acc 0.7293 | val_loss 0.7339 acc 0.6395 | P 0.5868 R 0.5754 F1 0.5810\n"
     ]
    },
    {
     "name": "stderr",
     "output_type": "stream",
     "text": [
      "                                                                                                 \r"
     ]
    },
    {
     "name": "stdout",
     "output_type": "stream",
     "text": [
      "Epoch 025 | train_loss 0.5108 (cls) + 0.0365 (cons)  triain_acc 0.7371 | val_loss 0.7445 acc 0.6387 | P 0.5883 R 0.5611 F1 0.5744\n"
     ]
    },
    {
     "name": "stderr",
     "output_type": "stream",
     "text": [
      "                                                                                                 \r"
     ]
    },
    {
     "name": "stdout",
     "output_type": "stream",
     "text": [
      "Epoch 026 | train_loss 0.5113 (cls) + 0.0359 (cons)  triain_acc 0.7353 | val_loss 0.7613 acc 0.6449 | P 0.6019 R 0.5400 F1 0.5693\n"
     ]
    },
    {
     "name": "stderr",
     "output_type": "stream",
     "text": [
      "                                                                                                 \r"
     ]
    },
    {
     "name": "stdout",
     "output_type": "stream",
     "text": [
      "Epoch 027 | train_loss 0.5070 (cls) + 0.0358 (cons)  triain_acc 0.7375 | val_loss 0.7930 acc 0.6387 | P 0.5694 R 0.6908 F1 0.6243\n"
     ]
    },
    {
     "name": "stderr",
     "output_type": "stream",
     "text": [
      "                                                                                                 \r"
     ]
    },
    {
     "name": "stdout",
     "output_type": "stream",
     "text": [
      "Epoch 028 | train_loss 0.5006 (cls) + 0.0359 (cons)  triain_acc 0.7430 | val_loss 0.7641 acc 0.6420 | P 0.5976 R 0.5392 F1 0.5669\n"
     ]
    },
    {
     "name": "stderr",
     "output_type": "stream",
     "text": [
      "                                                                                                 \r"
     ]
    },
    {
     "name": "stdout",
     "output_type": "stream",
     "text": [
      "Epoch 029 | train_loss 0.4958 (cls) + 0.0365 (cons)  triain_acc 0.7449 | val_loss 0.7527 acc 0.6431 | P 0.6023 R 0.5257 F1 0.5614\n"
     ]
    },
    {
     "name": "stderr",
     "output_type": "stream",
     "text": [
      "                                                                                                 \r"
     ]
    },
    {
     "name": "stdout",
     "output_type": "stream",
     "text": [
      "Epoch 030 | train_loss 0.4924 (cls) + 0.0359 (cons)  triain_acc 0.7476 | val_loss 0.7698 acc 0.6457 | P 0.6171 R 0.4861 F1 0.5438\n"
     ]
    },
    {
     "name": "stderr",
     "output_type": "stream",
     "text": [
      "                                                                                                 \r"
     ]
    },
    {
     "name": "stdout",
     "output_type": "stream",
     "text": [
      "Epoch 031 | train_loss 0.4856 (cls) + 0.0363 (cons)  triain_acc 0.7530 | val_loss 0.7655 acc 0.6534 | P 0.6000 R 0.6066 F1 0.6033\n",
      "💾 Saved new best ckpt: acc=0.6534 @ epoch 031\n"
     ]
    },
    {
     "name": "stderr",
     "output_type": "stream",
     "text": [
      "                                                                                                 \r"
     ]
    },
    {
     "name": "stdout",
     "output_type": "stream",
     "text": [
      "Epoch 032 | train_loss 0.4828 (cls) + 0.0367 (cons)  triain_acc 0.7549 | val_loss 0.7761 acc 0.6464 | P 0.5974 R 0.5712 F1 0.5840\n"
     ]
    },
    {
     "name": "stderr",
     "output_type": "stream",
     "text": [
      "                                                                                                 \r"
     ]
    },
    {
     "name": "stdout",
     "output_type": "stream",
     "text": [
      "Epoch 033 | train_loss 0.4784 (cls) + 0.0371 (cons)  triain_acc 0.7574 | val_loss 0.7817 acc 0.6457 | P 0.5900 R 0.6049 F1 0.5973\n"
     ]
    },
    {
     "name": "stderr",
     "output_type": "stream",
     "text": [
      "                                                                                                 \r"
     ]
    },
    {
     "name": "stdout",
     "output_type": "stream",
     "text": [
      "Epoch 034 | train_loss 0.4735 (cls) + 0.0369 (cons)  triain_acc 0.7582 | val_loss 0.7831 acc 0.6449 | P 0.5998 R 0.5493 F1 0.5734\n"
     ]
    },
    {
     "name": "stderr",
     "output_type": "stream",
     "text": [
      "                                                                                                 \r"
     ]
    },
    {
     "name": "stdout",
     "output_type": "stream",
     "text": [
      "Epoch 035 | train_loss 0.4715 (cls) + 0.0366 (cons)  triain_acc 0.7596 | val_loss 0.8071 acc 0.6442 | P 0.5759 R 0.6874 F1 0.6267\n"
     ]
    },
    {
     "name": "stderr",
     "output_type": "stream",
     "text": [
      "                                                                                                 \r"
     ]
    },
    {
     "name": "stdout",
     "output_type": "stream",
     "text": [
      "Epoch 036 | train_loss 0.4716 (cls) + 0.0366 (cons)  triain_acc 0.7627 | val_loss 0.7946 acc 0.6548 | P 0.6097 R 0.5712 F1 0.5898\n",
      "💾 Saved new best ckpt: acc=0.6548 @ epoch 036\n"
     ]
    },
    {
     "name": "stderr",
     "output_type": "stream",
     "text": [
      "                                                                                                 \r"
     ]
    },
    {
     "name": "stdout",
     "output_type": "stream",
     "text": [
      "Epoch 037 | train_loss 0.4664 (cls) + 0.0369 (cons)  triain_acc 0.7628 | val_loss 0.7821 acc 0.6442 | P 0.5913 R 0.5864 F1 0.5888\n"
     ]
    },
    {
     "name": "stderr",
     "output_type": "stream",
     "text": [
      "                                                                                                 \r"
     ]
    },
    {
     "name": "stdout",
     "output_type": "stream",
     "text": [
      "Epoch 038 | train_loss 0.4630 (cls) + 0.0367 (cons)  triain_acc 0.7655 | val_loss 0.8087 acc 0.6442 | P 0.6047 R 0.5232 F1 0.5610\n"
     ]
    },
    {
     "name": "stderr",
     "output_type": "stream",
     "text": [
      "                                                                                                 \r"
     ]
    },
    {
     "name": "stdout",
     "output_type": "stream",
     "text": [
      "Epoch 039 | train_loss 0.4624 (cls) + 0.0368 (cons)  triain_acc 0.7654 | val_loss 0.7864 acc 0.6497 | P 0.6045 R 0.5602 F1 0.5815\n"
     ]
    },
    {
     "name": "stderr",
     "output_type": "stream",
     "text": [
      "                                                                                                 \r"
     ]
    },
    {
     "name": "stdout",
     "output_type": "stream",
     "text": [
      "Epoch 040 | train_loss 0.4567 (cls) + 0.0366 (cons)  triain_acc 0.7685 | val_loss 0.8151 acc 0.6490 | P 0.5908 R 0.6251 F1 0.6074\n"
     ]
    },
    {
     "name": "stderr",
     "output_type": "stream",
     "text": [
      "                                                                                                 \r"
     ]
    },
    {
     "name": "stdout",
     "output_type": "stream",
     "text": [
      "Epoch 041 | train_loss 0.4527 (cls) + 0.0365 (cons)  triain_acc 0.7712 | val_loss 0.8196 acc 0.6464 | P 0.5980 R 0.5678 F1 0.5825\n"
     ]
    },
    {
     "name": "stderr",
     "output_type": "stream",
     "text": [
      "                                                                                                 \r"
     ]
    },
    {
     "name": "stdout",
     "output_type": "stream",
     "text": [
      "Epoch 042 | train_loss 0.4535 (cls) + 0.0366 (cons)  triain_acc 0.7710 | val_loss 0.8084 acc 0.6548 | P 0.5997 R 0.6184 F1 0.6089\n",
      "💾 Saved better ckpt: acc=0.6548 @ epoch 042\n"
     ]
    },
    {
     "name": "stderr",
     "output_type": "stream",
     "text": [
      "                                                                                                 \r"
     ]
    },
    {
     "name": "stdout",
     "output_type": "stream",
     "text": [
      "Epoch 043 | train_loss 0.4494 (cls) + 0.0366 (cons)  triain_acc 0.7751 | val_loss 0.8008 acc 0.6486 | P 0.6004 R 0.5720 F1 0.5858\n"
     ]
    },
    {
     "name": "stderr",
     "output_type": "stream",
     "text": [
      "                                                                                                 \r"
     ]
    },
    {
     "name": "stdout",
     "output_type": "stream",
     "text": [
      "Epoch 044 | train_loss 0.4485 (cls) + 0.0365 (cons)  triain_acc 0.7732 | val_loss 0.8506 acc 0.6486 | P 0.5930 R 0.6099 F1 0.6013\n"
     ]
    },
    {
     "name": "stderr",
     "output_type": "stream",
     "text": [
      "                                                                                                 \r"
     ]
    },
    {
     "name": "stdout",
     "output_type": "stream",
     "text": [
      "Epoch 045 | train_loss 0.4468 (cls) + 0.0370 (cons)  triain_acc 0.7747 | val_loss 0.8185 acc 0.6493 | P 0.5963 R 0.5973 F1 0.5968\n"
     ]
    },
    {
     "name": "stderr",
     "output_type": "stream",
     "text": [
      "                                                                                                 \r"
     ]
    },
    {
     "name": "stdout",
     "output_type": "stream",
     "text": [
      "Epoch 046 | train_loss 0.4460 (cls) + 0.0364 (cons)  triain_acc 0.7754 | val_loss 0.8265 acc 0.6453 | P 0.5946 R 0.5771 F1 0.5857\n"
     ]
    },
    {
     "name": "stderr",
     "output_type": "stream",
     "text": [
      "                                                                                                 \r"
     ]
    },
    {
     "name": "stdout",
     "output_type": "stream",
     "text": [
      "Epoch 047 | train_loss 0.4446 (cls) + 0.0363 (cons)  triain_acc 0.7755 | val_loss 0.8142 acc 0.6490 | P 0.5974 R 0.5889 F1 0.5931\n"
     ]
    },
    {
     "name": "stderr",
     "output_type": "stream",
     "text": [
      "                                                                                                 \r"
     ]
    },
    {
     "name": "stdout",
     "output_type": "stream",
     "text": [
      "Epoch 048 | train_loss 0.4425 (cls) + 0.0368 (cons)  triain_acc 0.7766 | val_loss 0.8472 acc 0.6508 | P 0.6003 R 0.5872 F1 0.5937\n"
     ]
    },
    {
     "name": "stderr",
     "output_type": "stream",
     "text": [
      "                                                                                                 \r"
     ]
    },
    {
     "name": "stdout",
     "output_type": "stream",
     "text": [
      "Epoch 049 | train_loss 0.4447 (cls) + 0.0363 (cons)  triain_acc 0.7750 | val_loss 0.8242 acc 0.6479 | P 0.5959 R 0.5889 F1 0.5924\n"
     ]
    },
    {
     "name": "stderr",
     "output_type": "stream",
     "text": [
      "                                                                                                 \r"
     ]
    },
    {
     "name": "stdout",
     "output_type": "stream",
     "text": [
      "Epoch 050 | train_loss 0.4449 (cls) + 0.0364 (cons)  triain_acc 0.7772 | val_loss 0.8082 acc 0.6475 | P 0.5951 R 0.5906 F1 0.5928\n"
     ]
    },
    {
     "name": "stderr",
     "output_type": "stream",
     "text": [
      "                                                                                                 \r"
     ]
    },
    {
     "name": "stdout",
     "output_type": "stream",
     "text": [
      "Epoch 051 | train_loss 0.4481 (cls) + 0.0368 (cons)  triain_acc 0.7761 | val_loss 0.8388 acc 0.6460 | P 0.5948 R 0.5813 F1 0.5880\n"
     ]
    },
    {
     "name": "stderr",
     "output_type": "stream",
     "text": [
      "                                                                                                 \r"
     ]
    },
    {
     "name": "stdout",
     "output_type": "stream",
     "text": [
      "Epoch 052 | train_loss 0.4450 (cls) + 0.0362 (cons)  triain_acc 0.7763 | val_loss 0.8247 acc 0.6497 | P 0.5981 R 0.5906 F1 0.5943\n"
     ]
    },
    {
     "name": "stderr",
     "output_type": "stream",
     "text": [
      "                                                                                                 \r"
     ]
    },
    {
     "name": "stdout",
     "output_type": "stream",
     "text": [
      "Epoch 053 | train_loss 0.4406 (cls) + 0.0369 (cons)  triain_acc 0.7794 | val_loss 0.8157 acc 0.6493 | P 0.6002 R 0.5779 F1 0.5888\n"
     ]
    },
    {
     "name": "stderr",
     "output_type": "stream",
     "text": [
      "                                                                                                 \r"
     ]
    },
    {
     "name": "stdout",
     "output_type": "stream",
     "text": [
      "Epoch 054 | train_loss 0.4434 (cls) + 0.0368 (cons)  triain_acc 0.7768 | val_loss 0.8147 acc 0.6515 | P 0.6005 R 0.5914 F1 0.5959\n"
     ]
    },
    {
     "name": "stderr",
     "output_type": "stream",
     "text": [
      "                                                                                                 \r"
     ]
    },
    {
     "name": "stdout",
     "output_type": "stream",
     "text": [
      "Epoch 055 | train_loss 0.4457 (cls) + 0.0363 (cons)  triain_acc 0.7789 | val_loss 0.8277 acc 0.6482 | P 0.5950 R 0.5965 F1 0.5957\n"
     ]
    },
    {
     "name": "stderr",
     "output_type": "stream",
     "text": [
      "                                                                                                 \r"
     ]
    },
    {
     "name": "stdout",
     "output_type": "stream",
     "text": [
      "Epoch 056 | train_loss 0.4458 (cls) + 0.0362 (cons)  triain_acc 0.7757 | val_loss 0.8276 acc 0.6515 | P 0.5980 R 0.6040 F1 0.6010\n"
     ]
    },
    {
     "name": "stderr",
     "output_type": "stream",
     "text": [
      "                                                                                                 \r"
     ]
    },
    {
     "name": "stdout",
     "output_type": "stream",
     "text": [
      "Epoch 057 | train_loss 0.4465 (cls) + 0.0365 (cons)  triain_acc 0.7749 | val_loss 0.8239 acc 0.6493 | P 0.5968 R 0.5948 F1 0.5958\n",
      "Early stop at epoch 57\n"
     ]
    }
   ],
   "source": [
    "\n",
    "\n",
    "import math, time, random\n",
    "\n",
    "from torch.optim.lr_scheduler import CosineAnnealingLR\n",
    "from torch.optim import AdamW\n",
    "\n",
    "device = 'cuda:1' if torch.cuda.is_available() else 'cpu'\n",
    "\n",
    "\n",
    "\n",
    "config = {\n",
    "    'in_dim'       : 768,\n",
    "    'hid_dim'      : 128,     #      64 128 256 \n",
    "    'S'            : 5,       #      2 3 4\n",
    "    'K'            : 2,       #       2 4 6\n",
    "    'num_GNN_layers': 2,     \n",
    "    'node_dropout' : 0.2,     #      0.1 0.3 0.5 0.7\n",
    "    'input_droprate': 0.3,\n",
    "    'hidden_droprate': 0.3,\n",
    "    'batchnorm'    : True,\n",
    "    'att_op'       : 'mul_head',\n",
    "    'num_heads'    : 6,\n",
    "    'temp'         : 0.6,          \n",
    "    'lam'          : 3.0,          # 0.8 1.0 1.4 1.6 2.0\n",
    "    'gnn_dropout'  : 0.2, \n",
    "}\n",
    "\n",
    "\n",
    "\n",
    "num_classes = 2\n",
    "lam = config['lam']\n",
    "\n",
    "model_path= \"best_model-devign-lam3.0max8kinput.pt\"\n",
    "# 1. 实例化网络（只一次）\n",
    "net = Net(config, num_classes).to(device)\n",
    "criterion_cls = nn.CrossEntropyLoss()\n",
    "# 2. 绑定优化器 / 调度器\n",
    "\n",
    "optimizer = AdamW(net.parameters(), lr=5e-4, weight_decay=1e-2)\n",
    "\n",
    "scheduler = CosineAnnealingLR(optimizer, T_max=50)\n",
    "\n",
    "# 3. 训练循环\n",
    "train_losses, val_losses, train_accs, val_accs = [], [], [], []\n",
    "best_val_acc, best_state, patience, wait = 0.6, None, 20, 0\n",
    "epochs = 180\n",
    "best_f1 = 0.57\n",
    "\n",
    "def evaluate(model, dataloader):\n",
    "    \"\"\"在 dataloader（val/test）上评估 acc、loss、F1、AUC 等\"\"\"\n",
    "    total_ex, correct, loss_sum = 0, 0, 0.0\n",
    "    all_preds, all_labels, all_probs = [], [], []\n",
    "\n",
    "    with torch.no_grad():\n",
    "        for batch in dataloader:\n",
    "            featb, adjb, maskb, labels = batch_to_tensor(batch, device)\n",
    "            logits, _ = model(featb, adjb, maskb, train_consistency=False)\n",
    "\n",
    "            bs = labels.size(0)\n",
    "            loss_sum += criterion_cls(logits, labels).item() * bs\n",
    "            pred = logits.argmax(1)\n",
    "\n",
    "            correct += (pred == labels).sum().item()\n",
    "            total_ex += bs\n",
    "\n",
    "            all_preds.append(pred.cpu())\n",
    "            all_labels.append(labels.cpu())\n",
    "            # 只取“正类”的概率，适用于二分类\n",
    "            all_probs.append(torch.softmax(logits, dim=-1)[:, 1].cpu())\n",
    "\n",
    "    y_true = torch.cat(all_labels).numpy()\n",
    "    y_pred = torch.cat(all_preds).numpy()\n",
    "    y_score = torch.cat(all_probs).numpy()\n",
    "\n",
    "    acc = correct / total_ex\n",
    "    loss = loss_sum / total_ex\n",
    "    prec, rec, f1, _ = precision_recall_fscore_support(y_true, y_pred, average=\"binary\", zero_division=0)\n",
    "\n",
    "    try:\n",
    "        auc = roc_auc_score(y_true, y_score)\n",
    "    except:\n",
    "        auc = 0.0  # 防止类别不全时报错\n",
    "\n",
    "    return acc, loss, prec, rec, f1, auc\n",
    "\n",
    "\n",
    "\n",
    "def batch_to_tensor(batch, device):\n",
    "    \"\"\"把 collate_graph 返回的 dict ⇢ (feat, adj, mask, label) 四张量\"\"\"\n",
    "    # 节点特征\n",
    "    feats_list = batch[\"feats\"]\n",
    "    adjs_list  = batch[\"adjs\"]\n",
    "    labels     = batch[\"labels\"].to(device)\n",
    "\n",
    "    N_max = max(a.shape[0] for a in adjs_list)\n",
    "    dim   = len(feats_list[0][0])           \n",
    "\n",
    "    # 统一 Padding\n",
    "    featb = torch.zeros(len(feats_list), N_max, dim,  dtype=torch.float32, device=device)\n",
    "    adjb  = torch.zeros(len(adjs_list),  N_max, N_max, dtype=torch.float32, device=device)\n",
    "    maskb = torch.zeros(len(adjs_list),  N_max,        dtype=torch.float32, device=device)\n",
    "\n",
    "    for i, (adj, feat) in enumerate(zip(adjs_list, feats_list)):\n",
    "        n = adj.shape[0]\n",
    "        adjb [i, :n, :n] = torch.from_numpy(adj.toarray()).to(device)\n",
    "        featb[i, :n, :]  = torch.from_numpy(np.asarray(feat)).to(device)\n",
    "        maskb[i, :n]     = 1.\n",
    "\n",
    "    return featb, adjb, maskb, labels\n",
    "\n",
    "\n",
    "\n",
    "train_losses, val_losses = [], []\n",
    "train_accs, val_accs = [], []\n",
    "\n",
    "\n",
    "def batch_to_tensor(batch, device):\n",
    "    \"\"\"把 collate_graph 返回的 dict ⇢ (feat, adj, mask, label) 四张量\"\"\"\n",
    "    # 节点特征\n",
    "    feats_list = batch[\"feats\"]\n",
    "    adjs_list  = batch[\"adjs\"]\n",
    "    labels     = batch[\"labels\"].to(device)\n",
    "\n",
    "    N_max = max(a.shape[0] for a in adjs_list)\n",
    "    dim   = len(feats_list[0][0])           # 768\n",
    "\n",
    "    # 统一 Padding\n",
    "    featb = torch.zeros(len(feats_list), N_max, dim,  dtype=torch.float32, device=device)\n",
    "    adjb  = torch.zeros(len(adjs_list),  N_max, N_max, dtype=torch.float32, device=device)\n",
    "    maskb = torch.zeros(len(adjs_list),  N_max,        dtype=torch.float32, device=device)\n",
    "\n",
    "    for i, (adj, feat) in enumerate(zip(adjs_list, feats_list)):\n",
    "        n = adj.shape[0]\n",
    "        adjb [i, :n, :n] = torch.from_numpy(adj.toarray()).to(device)\n",
    "        featb[i, :n, :]  = torch.from_numpy(np.asarray(feat)).to(device)\n",
    "        maskb[i, :n]     = 1.\n",
    "\n",
    "    return featb, adjb, maskb, labels\n",
    "\n",
    "\n",
    "\n",
    "\n",
    "\n",
    "train_losses, val_losses = [], []\n",
    "train_accs, val_accs = [], []\n",
    "import copy\n",
    "wait = 0\n",
    "init_seed=2345\n",
    "epoch = 0\n",
    "while True:\n",
    "    epoch+=1\n",
    "\n",
    "    # ===== Train =====\n",
    "    net.train()\n",
    "    tr_loss_sum, cons_loss_sum, tr_correct, tr_ex = 0.0, 0.0, 0, 0\n",
    "    bar = tqdm(train_loader, desc=f\"Train Ep{epoch:03d}\", leave=False)\n",
    "\n",
    "    for batch in bar:\n",
    "        featb, adjb, maskb, labels = batch_to_tensor(batch, device)\n",
    "        bs = labels.size(0)               \n",
    "        optimizer.zero_grad()\n",
    "        seed   = init_seed + epoch\n",
    "\n",
    "        logits, cons = net(featb, adjb, maskb, seed=seed, train_consistency=True)\n",
    "\n",
    "        cls_loss = criterion_cls(logits, labels)\n",
    "        \n",
    "        loss = cls_loss + lam * cons\n",
    "\n",
    "        loss.backward()\n",
    "\n",
    "        optimizer.step()\n",
    "\n",
    "        \n",
    "        tr_loss_sum += cls_loss.item() * bs\n",
    "        cons_loss_sum += cons.item() * bs\n",
    "        tr_correct  += (logits.argmax(1) == labels).sum().item()\n",
    "        tr_ex       += bs\n",
    "        bar.set_postfix(cls_loss=f\"{cls_loss.item() / bs:.4f}\", cons_loss=f\"{cons.item() / bs:.4f}\")\n",
    "\n",
    "    scheduler.step()\n",
    "    train_loss = tr_loss_sum / tr_ex\n",
    "    train_cons_loss = cons_loss_sum / tr_ex\n",
    "    train_acc  = tr_correct  / tr_ex\n",
    "\n",
    "\n",
    "    # ===== Validate =====\n",
    "    net.eval()\n",
    "    val_loss_sum, val_correct, val_ex = 0.0, 0, 0\n",
    "    all_preds, all_labels = [], []\n",
    "\n",
    "    with torch.no_grad():\n",
    "        bar = tqdm(val_loader, desc=f\"Val Ep{epoch:03d}\", leave=False)\n",
    "        for batch in bar:\n",
    "            featb, adjb, maskb, labels = batch_to_tensor(batch, device)\n",
    "            logits, _ = net(featb, adjb, maskb, train_consistency=False)\n",
    "\n",
    "            bs = labels.size(0)\n",
    "            val_loss_sum += criterion_cls(logits, labels).item() * bs\n",
    "            preds = logits.argmax(1)\n",
    "\n",
    "            val_correct  += (preds == labels).sum().item()\n",
    "            val_ex       += bs\n",
    "\n",
    "            all_preds.append(preds.cpu())\n",
    "            all_labels.append(labels.cpu())\n",
    "\n",
    "    # 拼接所有 batch 结果\n",
    "    all_preds  = torch.cat(all_preds).numpy()\n",
    "    all_labels = torch.cat(all_labels).numpy()\n",
    "    val_acc, val_loss, prec, rec, f1, auc = evaluate(net, val_loader)\n",
    "\n",
    "\n",
    "    train_losses.append(train_loss)\n",
    "    val_losses.append(val_loss)\n",
    "    train_accs.append(train_acc)\n",
    "    val_accs.append(val_acc)\n",
    "\n",
    "    # ===== Log =====\n",
    "\n",
    "    tqdm.write(\n",
    "        f\"Epoch {epoch:03d} | \"\n",
    "        f\"train_loss {train_loss:.4f} (cls) + {train_cons_loss:.4f} (cons)  \"\n",
    "        f\"triain_acc {train_acc:.4f} | \"\n",
    "        f\"val_loss {val_loss:.4f} acc {val_acc:.4f} | \"\n",
    "        f\"P {prec:.4f} R {rec:.4f} F1 {f1:.4f}\"\n",
    "    )\n",
    "\n",
    "    # ===== Early-stopping =====\n",
    "\n",
    "    if val_acc > best_val_acc:\n",
    "        best_f1= f1\n",
    "        best_val_acc = max(val_acc,best_val_acc)\n",
    "        best_state   = net.state_dict()\n",
    "        torch.save(net.state_dict(), model_path)\n",
    "        tqdm.write(f\"💾 Saved new best ckpt: acc={best_val_acc:.4f} @ epoch {epoch:03d}\")\n",
    "        wait = 0\n",
    "    if val_acc == best_val_acc:\n",
    "        if f1 > best_f1:\n",
    "            best_f1= f1\n",
    "            best_val_acc = max(val_acc,best_val_acc)\n",
    "            best_state   = net.state_dict()\n",
    "            torch.save(net.state_dict(), model_path)\n",
    "            tqdm.write(f\"💾 Saved better ckpt: acc={best_val_acc:.4f} @ epoch {epoch:03d}\")\n",
    "        \n",
    "        \n",
    "    else:\n",
    "        wait += 1\n",
    "        if wait >= patience:\n",
    "            tqdm.write(f\"Early stop at epoch {epoch}\")\n",
    "            break\n",
    "\n"
   ]
  },
  {
   "cell_type": "code",
   "execution_count": 12,
   "metadata": {},
   "outputs": [
    {
     "data": {
      "image/png": "[encoded data removed]",
      "text/plain": [
       "<Figure size 600x400 with 1 Axes>"
      ]
     },
     "metadata": {},
     "output_type": "display_data"
    },
    {
     "data": {
      "image/png": "[encoded data removed]",
      "text/plain": [
       "<Figure size 600x400 with 1 Axes>"
      ]
     },
     "metadata": {},
     "output_type": "display_data"
    }
   ],
   "source": [
    "import matplotlib.pyplot as plt\n",
    "\n",
    "epochs_r = range(1, len(train_losses) + 1)\n",
    "\n",
    "plt.figure(figsize=(6,4))\n",
    "def to_float(x):\n",
    "    if torch.is_tensor(x):\n",
    "        return x.detach().cpu().item()\n",
    "    return float(x)\n",
    "\n",
    "val_vals   = [to_float(v) for v in val_losses]\n",
    "train_vals = [to_float(v) for v in train_losses]\n",
    "\n",
    "plt.plot(epochs_r, val_vals,   label='Val loss')\n",
    "plt.plot(epochs_r, train_vals, label='Train loss')\n",
    "\n",
    "\n",
    "plt.xlabel('Epoch')\n",
    "plt.ylabel('Loss')\n",
    "plt.legend()\n",
    "plt.title('Training vs Validation loss')\n",
    "plt.show()\n",
    "\n",
    "plt.figure(figsize=(6,4))\n",
    "plt.plot(epochs_r, train_accs, label='Train acc')\n",
    "plt.plot(epochs_r, val_accs,  label='Val acc')\n",
    "plt.xlabel('Epoch')\n",
    "plt.ylabel('Accuracy')\n",
    "plt.legend()\n",
    "plt.title('Training vs Validation accuracy')\n",
    "plt.show()\n"
   ]
  },
  {
   "cell_type": "code",
   "execution_count": 13,
   "metadata": {},
   "outputs": [
    {
     "name": "stdout",
     "output_type": "stream",
     "text": [
      "=======================================================\n",
      "VAL   | loss   0.8050 | acc 0.6534 | P 0.5993 | R 0.6099 | F1 0.6046| AUC 0.7157\n",
      "TEST  | loss   0.8462 | acc 0.6468 | P 0.6175 | R 0.6072 | F1 0.6123| AUC 0.7101\n",
      "=======================================================\n"
     ]
    }
   ],
   "source": [
    "# # === 重新实例化网络，与训练时配置保持一致 ===\n",
    "best_net = Net(config, num_classes).to(device)\n",
    "\n",
    "# # === 加载参数 ===\n",
    "best_net.load_state_dict(torch.load(model_path, map_location=device,weights_only=False))\n",
    "\n",
    "# best_net=copy.deepcopy(best_model)\n",
    "best_net.eval()      # 切到推理模式\n",
    "\n",
    "\n",
    "def pretty_print(split_name, metrics):\n",
    "    acc, loss, prec, rec, f1, auc= metrics\n",
    "    print(\n",
    "        f\"{split_name:<5} | \"\n",
    "        f\"loss {loss:8.4f} | \"\n",
    "        f\"acc {acc:6.4f} | \"\n",
    "        f\"P {prec:6.4f} | \"\n",
    "        f\"R {rec:6.4f} | \"\n",
    "        f\"F1 {f1:6.4f}| \"\n",
    "        f\"AUC {auc:6.4f}\"\n",
    "    )\n",
    "\n",
    "# 评估\n",
    "val_metrics  = evaluate(best_net, val_loader)\n",
    "test_metrics = evaluate(best_net, test_loader)\n",
    "\n",
    "# 打印\n",
    "print(\"=\"*55)\n",
    "pretty_print(\"VAL\",  val_metrics)\n",
    "pretty_print(\"TEST\", test_metrics)\n",
    "print(\"=\"*55)\n",
    "# =======================================================\n",
    "# VAL   | loss   0.7020 | acc 0.6633 | P 0.6138 | R 0.6066 | F1 0.6102| AUC 0.7241\n",
    "# TEST  | loss   0.7449 | acc 0.6512 | P 0.6244 | R 0.6040 | F1 0.6140| AUC 0.7093\n",
    "#ps 不知道为什么  这个cell 每次执行结果都会改变 "
   ]
  },
  {
   "cell_type": "code",
   "execution_count": 14,
   "metadata": {},
   "outputs": [
    {
     "name": "stdout",
     "output_type": "stream",
     "text": [
      "\n",
      "—— TEST ——\n",
      "(0‑512]    样本1860 | ACC  67.15% | P  64.74% | R  59.09% | F1  61.79% | AUC 0.7469\n",
      "(512‑1k]   样本 501 | ACC  61.08% | P  61.60% | R  60.87% | F1  61.23% | AUC 0.6367\n",
      "(1k‑1.5k]  样本 177 | ACC  61.02% | P  57.58% | R  67.86% | F1  62.30% | AUC 0.6759\n",
      "(1.5k‑2k]  样本  79 | ACC  58.23% | P  51.72% | R  85.71% | F1  64.52% | AUC 0.5922\n",
      "(2k‑4k]    样本  86 | ACC  47.67% | P  42.31% | R  59.46% | F1  49.44% | AUC 0.4881\n",
      "(4k‑8k]    样本  24 | ACC  58.33% | P  42.86% | R  75.00% | F1  54.55% | AUC 0.7188\n",
      "(8k‑inf]   样本   5 | ACC  20.00% | P   0.00% | R   0.00% | F1   0.00% | AUC 0.0000\n"
     ]
    }
   ],
   "source": [
    "import numpy as np\n",
    "from collections import defaultdict\n",
    "from sklearn.metrics import precision_recall_fscore_support, roc_auc_score\n",
    "\n",
    "# —— 1. 设定长度分箱 ——（可自行调整）\n",
    "length_bins = {\n",
    "    \"(0‑512]\"     : (1,   512),\n",
    "    \"(512‑1k]\"    : (513, 1023),\n",
    "    \"(1k‑1.5k]\"   : (1024,1536),\n",
    "    \"(1.5k‑2k]\"   : (1537,2048),\n",
    "    \"(2k‑4k]\"     : (2049,4096),\n",
    "    \"(4k‑8k]\"     : (4097,8191),\n",
    "    \"(8k‑inf]\"    : (8192,99999999),\n",
    "}\n",
    "\n",
    "def bucket_metrics(model, dataloader, bins=length_bins, device='cpu'):\n",
    "    \"\"\"\n",
    "    逐区间统计 acc / precision / recall / f1 / auc。\n",
    "    返回 dict: {bucket_name: {'acc':…, 'pre':…, 'rec':…, 'f1':…, 'auc':…, 'total':…}}\n",
    "    \"\"\"\n",
    "    model.eval()\n",
    "    # 预置容器\n",
    "    stats = {b: defaultdict(list) for b in bins}   # 每个 bucket 存放 y_true / y_pred / y_prob\n",
    "\n",
    "    with torch.no_grad():\n",
    "        for batch in dataloader:\n",
    "            featb, adjb, maskb, labels = batch_to_tensor(batch, device)\n",
    "            logits, _ = model(featb, adjb, maskb, train_consistency=False)\n",
    "\n",
    "            # 取得预测类别 & 正类概率\n",
    "            preds = logits.argmax(1).cpu().numpy()\n",
    "            probs = torch.softmax(logits, dim=-1)[:, 1].cpu().numpy()\n",
    "            labels_np = labels.cpu().numpy()\n",
    "\n",
    "            # 实际 token 长度（去掉 <pad>）\n",
    "            lengths = batch[\"attention_mask\"].sum(dim=1).tolist()\n",
    "\n",
    "            # 归入对应 bucket\n",
    "            for y, p, prob, L in zip(labels_np, preds, probs, lengths):\n",
    "                for bname, (lo, hi) in bins.items():\n",
    "                    if lo <= L <= hi:\n",
    "                        stats[bname]['y_true'].append(y)\n",
    "                        stats[bname]['y_pred'].append(p)\n",
    "                        stats[bname]['y_prob'].append(prob)\n",
    "                        break\n",
    "\n",
    "    # 计算指标\n",
    "    results = {}\n",
    "    for bname, d in stats.items():\n",
    "        y_true = np.array(d['y_true'])\n",
    "        y_pred = np.array(d['y_pred'])\n",
    "        y_prob = np.array(d['y_prob'])\n",
    "        total  = len(y_true)\n",
    "\n",
    "        if total == 0:                      # 该区间无样本\n",
    "            results[bname] = dict(acc=0, pre=0, rec=0, f1=0, auc=0, total=0)\n",
    "            continue\n",
    "\n",
    "        acc  = (y_true == y_pred).mean()\n",
    "        pre, rec, f1, _ = precision_recall_fscore_support(\n",
    "            y_true, y_pred, average='binary', zero_division=0)\n",
    "\n",
    "        # AUC 兼容单类别异常情况\n",
    "        try:\n",
    "            auc = roc_auc_score(y_true, y_prob)\n",
    "        except ValueError:\n",
    "            auc = 0.0\n",
    "\n",
    "        results[bname] = dict(acc=acc, pre=pre, rec=rec, f1=f1, auc=auc, total=total)\n",
    "    return results\n",
    "\n",
    "# —— 2. 调用示例 ——\n",
    "for name, loader in [ (\"TEST\", test_loader)]:\n",
    "    metrics = bucket_metrics(best_net, loader, device=device)\n",
    "    print(f\"\\n—— {name} ——\")\n",
    "    for b, m in metrics.items():\n",
    "        print(f\"{b:<10} 样本{m['total']:4d} | \"\n",
    "              f\"ACC {m['acc']*100:6.2f}% | \"\n",
    "              f\"P {m['pre']*100:6.2f}% | R {m['rec']*100:6.2f}% | \"\n",
    "              f\"F1 {m['f1']*100:6.2f}% | AUC {m['auc']:.4f}\")\n",
    "\n",
    "\n",
    "# —— TEST ——\n",
    "# (0‑512]    样本1860 | ACC  67.15% | P  66.72% | R  53.71% | F1  59.51% | AUC 0.7378\n",
    "# (512‑1k]   样本 501 | ACC  58.48% | P  62.86% | R  43.48% | F1  51.40% | AUC 0.6431\n",
    "# (1k‑1.5k]  样本 177 | ACC  63.84% | P  66.13% | R  48.81% | F1  56.16% | AUC 0.6523\n",
    "# (1.5k‑2k]  样本  79 | ACC  55.70% | P  50.00% | R  40.00% | F1  44.44% | AUC 0.6409\n",
    "# (2k‑4k]    样本  86 | ACC  55.81% | P  47.62% | R  27.03% | F1  34.48% | AUC 0.5041\n",
    "# (4k‑8k]    样本  24 | ACC  79.17% | P 100.00% | R  37.50% | F1  54.55% | AUC 0.7344\n",
    "# (8k‑inf]   样本   5 | ACC  60.00% | P   0.00% | R   0.00% | F1   0.00% | AUC 0.0000\n",
    "\n",
    "\n",
    "\n"
   ]
  },
  {
   "cell_type": "code",
   "execution_count": 15,
   "metadata": {},
   "outputs": [
    {
     "name": "stdout",
     "output_type": "stream",
     "text": [
      "\n",
      "—— Per Bucket Confusion ——\n",
      "(0‑512]    样本1860 | TP  495 TN  758 FP  266 FN  341 | ACC  67.37% | P  65.05% | R  59.21% | F1  61.99% | AUC 0.7486\n",
      "(512‑1k]   样本 501 | TP  155 TN  153 FP   95 FN   98 | ACC  61.48% | P  62.00% | R  61.26% | F1  61.63% | AUC 0.6379\n",
      "(1k‑1.5k]  样本 177 | TP   57 TN   50 FP   43 FN   27 | ACC  60.45% | P  57.00% | R  67.86% | F1  61.96% | AUC 0.6779\n",
      "(1.5k‑2k]  样本  79 | TP   30 TN   17 FP   27 FN    5 | ACC  59.49% | P  52.63% | R  85.71% | F1  65.22% | AUC 0.5948\n",
      "(2k‑4k]    样本  86 | TP   22 TN   20 FP   29 FN   15 | ACC  48.84% | P  43.14% | R  59.46% | F1  50.00% | AUC 0.4903\n",
      "(4k‑8k]    样本  24 | TP    6 TN    8 FP    8 FN    2 | ACC  58.33% | P  42.86% | R  75.00% | F1  54.55% | AUC 0.7109\n",
      "(8k‑inf]   样本   5 | TP    0 TN    0 FP    3 FN    2 | ACC   0.00% | P   0.00% | R   0.00% | F1   0.00% | AUC 0.0000\n"
     ]
    }
   ],
   "source": [
    "def bucket_metrics_with_confusion(model, dataloader, bins=length_bins, device='cpu'):\n",
    "    from collections import defaultdict\n",
    "    model.eval()\n",
    "    stats = {b: defaultdict(list) for b in bins}\n",
    "\n",
    "    with torch.no_grad():\n",
    "        for batch in dataloader:\n",
    "            featb, adjb, maskb, labels = batch_to_tensor(batch, device)\n",
    "            logits, _ = model(featb, adjb, maskb, train_consistency=False)\n",
    "\n",
    "            preds = logits.argmax(1).cpu().numpy()\n",
    "            probs = torch.softmax(logits, dim=-1)[:, 1].cpu().numpy()\n",
    "            labels_np = labels.cpu().numpy()\n",
    "            lengths = batch[\"attention_mask\"].sum(dim=1).tolist()\n",
    "\n",
    "            for y, p, prob, L in zip(labels_np, preds, probs, lengths):\n",
    "                for bname, (lo, hi) in bins.items():\n",
    "                    if lo <= L <= hi:\n",
    "                        stats[bname]['y_true'].append(y)\n",
    "                        stats[bname]['y_pred'].append(p)\n",
    "                        stats[bname]['y_prob'].append(prob)\n",
    "                        break\n",
    "\n",
    "    results = {}\n",
    "    for bname, d in stats.items():\n",
    "        y_true = np.array(d['y_true'])\n",
    "        y_pred = np.array(d['y_pred'])\n",
    "        y_prob = np.array(d['y_prob'])\n",
    "        total  = len(y_true)\n",
    "\n",
    "        if total == 0:\n",
    "            results[bname] = dict(acc=0, pre=0, rec=0, f1=0, auc=0, total=0,\n",
    "                                  TP=0, TN=0, FP=0, FN=0)\n",
    "            continue\n",
    "\n",
    "        acc  = (y_true == y_pred).mean()\n",
    "        pre, rec, f1, _ = precision_recall_fscore_support(\n",
    "            y_true, y_pred, average='binary', zero_division=0)\n",
    "        try:\n",
    "            auc = roc_auc_score(y_true, y_prob)\n",
    "        except ValueError:\n",
    "            auc = 0.0\n",
    "\n",
    "        # 混淆矩阵组件\n",
    "        TP = np.sum((y_true == 1) & (y_pred == 1))\n",
    "        TN = np.sum((y_true == 0) & (y_pred == 0))\n",
    "        FP = np.sum((y_true == 0) & (y_pred == 1))\n",
    "        FN = np.sum((y_true == 1) & (y_pred == 0))\n",
    "\n",
    "        results[bname] = dict(acc=acc, pre=pre, rec=rec, f1=f1, auc=auc, total=total,\n",
    "                              TP=TP, TN=TN, FP=FP, FN=FN)\n",
    "\n",
    "    return results\n",
    "metrics = bucket_metrics_with_confusion(best_net, test_loader, device=device)\n",
    "print(f\"\\n—— Per Bucket Confusion ——\")\n",
    "for b, m in metrics.items():\n",
    "    print(f\"{b:<10} 样本{m['total']:4d} | \"\n",
    "          f\"TP {m['TP']:4d} TN {m['TN']:4d} FP {m['FP']:4d} FN {m['FN']:4d} | \"\n",
    "          f\"ACC {m['acc']*100:6.2f}% | P {m['pre']*100:6.2f}% | \"\n",
    "          f\"R {m['rec']*100:6.2f}% | F1 {m['f1']*100:6.2f}% | AUC {m['auc']:.4f}\")\n",
    "    \n",
    "# —— Per Bucket Confusion ——\n",
    "# (0‑512]    样本1860 | TP  495 TN  758 FP  266 FN  341 | ACC  67.37% | P  65.05% | R  59.21% | F1  61.99% | AUC 0.7486\n",
    "# (512‑1k]   样本 501 | TP  155 TN  153 FP   95 FN   98 | ACC  61.48% | P  62.00% | R  61.26% | F1  61.63% | AUC 0.6379\n",
    "# (1k‑1.5k]  样本 177 | TP   57 TN   50 FP   43 FN   27 | ACC  60.45% | P  57.00% | R  67.86% | F1  61.96% | AUC 0.6779\n",
    "# (1.5k‑2k]  样本  79 | TP   30 TN   17 FP   27 FN    5 | ACC  59.49% | P  52.63% | R  85.71% | F1  65.22% | AUC 0.5948\n",
    "# (2k‑4k]    样本  86 | TP   22 TN   20 FP   29 FN   15 | ACC  48.84% | P  43.14% | R  59.46% | F1  50.00% | AUC 0.4903\n",
    "# (4k‑8k]    样本  24 | TP    6 TN    8 FP    8 FN    2 | ACC  58.33% | P  42.86% | R  75.00% | F1  54.55% | AUC 0.7109\n",
    "# (8k‑inf]   样本   5 | TP    0 TN    0 FP    3 FN    2 | ACC   0.00% | P   0.00% | R   0.00% | F1   0.00% | AUC 0.0000"
   ]
  }
 ],
 "metadata": {
  "kernelspec": {
   "display_name": "openr",
   "language": "python",
   "name": "python3"
  },
  "language_info": {
   "codemirror_mode": {
    "name": "ipython",
    "version": 3
   },
   "file_extension": ".py",
   "mimetype": "text/x-python",
   "name": "python",
   "nbconvert_exporter": "python",
   "pygments_lexer": "ipython3",
   "version": "3.10.15"
  }
 },
 "nbformat": 4,
 "nbformat_minor": 2
}
